{
 "cells": [
  {
   "cell_type": "markdown",
   "id": "80f79568",
   "metadata": {},
   "source": [
    "# Creating dataset for app\n",
    "\n",
    "This notebook contains all of transformations applied to the\n",
    "Go Analog dataset to create the item similarity matrices and\n",
    "other files for the web app.\n",
    "\n",
    "It also contains tests of the app function pipeline."
   ]
  },
  {
   "cell_type": "markdown",
   "id": "2cc415e0",
   "metadata": {},
   "source": [
    "### Preprocessing data"
   ]
  },
  {
   "cell_type": "code",
   "execution_count": 111,
   "id": "9ac89a38",
   "metadata": {},
   "outputs": [],
   "source": [
    "import pandas as pd\n",
    "import numpy as np\n",
    "import html # To escape html\n",
    "from IPython.display import display # For testing html\n",
    "from sklearn.metrics import pairwise_distances # For cosine sim"
   ]
  },
  {
   "cell_type": "code",
   "execution_count": 112,
   "id": "ec45243a",
   "metadata": {},
   "outputs": [],
   "source": [
    "bgg = pd.read_csv('../go_analog_dataset/BoardGameRatings.csv')\n",
    "steam = pd.read_csv(\"../go_analog_dataset/VideoGamePlaytimes.csv\")\n",
    "vg = pd.read_csv('../go_analog_dataset/VideoGames.csv')\n",
    "bg = pd.read_csv('../go_analog_dataset/BoardGames.csv')"
   ]
  },
  {
   "cell_type": "code",
   "execution_count": 113,
   "id": "5ec00ce6",
   "metadata": {
    "scrolled": true
   },
   "outputs": [
    {
     "data": {
      "text/html": [
       "<div>\n",
       "<style scoped>\n",
       "    .dataframe tbody tr th:only-of-type {\n",
       "        vertical-align: middle;\n",
       "    }\n",
       "\n",
       "    .dataframe tbody tr th {\n",
       "        vertical-align: top;\n",
       "    }\n",
       "\n",
       "    .dataframe thead th {\n",
       "        text-align: right;\n",
       "    }\n",
       "</style>\n",
       "<table border=\"1\" class=\"dataframe\">\n",
       "  <thead>\n",
       "    <tr style=\"text-align: right;\">\n",
       "      <th></th>\n",
       "      <th>User</th>\n",
       "      <th>Game</th>\n",
       "      <th>Rating</th>\n",
       "    </tr>\n",
       "  </thead>\n",
       "  <tbody>\n",
       "    <tr>\n",
       "      <th>0</th>\n",
       "      <td>user0</td>\n",
       "      <td>224037</td>\n",
       "      <td>7.5</td>\n",
       "    </tr>\n",
       "    <tr>\n",
       "      <th>1</th>\n",
       "      <td>user103</td>\n",
       "      <td>224037</td>\n",
       "      <td>5.0</td>\n",
       "    </tr>\n",
       "    <tr>\n",
       "      <th>2</th>\n",
       "      <td>user1083</td>\n",
       "      <td>224037</td>\n",
       "      <td>10.0</td>\n",
       "    </tr>\n",
       "  </tbody>\n",
       "</table>\n",
       "</div>"
      ],
      "text/plain": [
       "       User    Game  Rating\n",
       "0     user0  224037     7.5\n",
       "1   user103  224037     5.0\n",
       "2  user1083  224037    10.0"
      ]
     },
     "execution_count": 113,
     "metadata": {},
     "output_type": "execute_result"
    }
   ],
   "source": [
    "bgg.head(3)"
   ]
  },
  {
   "cell_type": "code",
   "execution_count": 114,
   "id": "9d21bf7e",
   "metadata": {},
   "outputs": [
    {
     "data": {
      "text/html": [
       "<div>\n",
       "<style scoped>\n",
       "    .dataframe tbody tr th:only-of-type {\n",
       "        vertical-align: middle;\n",
       "    }\n",
       "\n",
       "    .dataframe tbody tr th {\n",
       "        vertical-align: top;\n",
       "    }\n",
       "\n",
       "    .dataframe thead th {\n",
       "        text-align: right;\n",
       "    }\n",
       "</style>\n",
       "<table border=\"1\" class=\"dataframe\">\n",
       "  <thead>\n",
       "    <tr style=\"text-align: right;\">\n",
       "      <th></th>\n",
       "      <th>User</th>\n",
       "      <th>Game</th>\n",
       "      <th>Playtime</th>\n",
       "    </tr>\n",
       "  </thead>\n",
       "  <tbody>\n",
       "    <tr>\n",
       "      <th>0</th>\n",
       "      <td>user0</td>\n",
       "      <td>1064610</td>\n",
       "      <td>5.0</td>\n",
       "    </tr>\n",
       "    <tr>\n",
       "      <th>1</th>\n",
       "      <td>user0</td>\n",
       "      <td>1085660</td>\n",
       "      <td>4355.0</td>\n",
       "    </tr>\n",
       "    <tr>\n",
       "      <th>2</th>\n",
       "      <td>user0</td>\n",
       "      <td>11020</td>\n",
       "      <td>36.0</td>\n",
       "    </tr>\n",
       "  </tbody>\n",
       "</table>\n",
       "</div>"
      ],
      "text/plain": [
       "    User     Game  Playtime\n",
       "0  user0  1064610       5.0\n",
       "1  user0  1085660    4355.0\n",
       "2  user0    11020      36.0"
      ]
     },
     "execution_count": 114,
     "metadata": {},
     "output_type": "execute_result"
    }
   ],
   "source": [
    "steam.head(3)"
   ]
  },
  {
   "cell_type": "code",
   "execution_count": 115,
   "id": "6ae33fe3",
   "metadata": {},
   "outputs": [
    {
     "data": {
      "text/html": [
       "<div>\n",
       "<style scoped>\n",
       "    .dataframe tbody tr th:only-of-type {\n",
       "        vertical-align: middle;\n",
       "    }\n",
       "\n",
       "    .dataframe tbody tr th {\n",
       "        vertical-align: top;\n",
       "    }\n",
       "\n",
       "    .dataframe thead th {\n",
       "        text-align: right;\n",
       "    }\n",
       "</style>\n",
       "<table border=\"1\" class=\"dataframe\">\n",
       "  <thead>\n",
       "    <tr style=\"text-align: right;\">\n",
       "      <th></th>\n",
       "      <th>Id</th>\n",
       "      <th>Name</th>\n",
       "      <th>Release</th>\n",
       "      <th>Rating</th>\n",
       "      <th>Ranking</th>\n",
       "      <th>Subtype_Ranking</th>\n",
       "      <th>Subtype_Name</th>\n",
       "      <th>Playing_Time</th>\n",
       "      <th>Min_Age</th>\n",
       "      <th>Min_Players</th>\n",
       "      <th>Max_Players</th>\n",
       "      <th>Thumbnail</th>\n",
       "      <th>Tags</th>\n",
       "      <th>URL</th>\n",
       "    </tr>\n",
       "  </thead>\n",
       "  <tbody>\n",
       "    <tr>\n",
       "      <th>0</th>\n",
       "      <td>224037</td>\n",
       "      <td>Codenames: Duet</td>\n",
       "      <td>2017.0</td>\n",
       "      <td>7.33735</td>\n",
       "      <td>171</td>\n",
       "      <td>26</td>\n",
       "      <td>Family Game Rank</td>\n",
       "      <td>30.0</td>\n",
       "      <td>11.0</td>\n",
       "      <td>2.0</td>\n",
       "      <td>2.0</td>\n",
       "      <td>https://cf.geekdo-images.com/0d1EaMVmAiIBROI2Q...</td>\n",
       "      <td>Card Game, Deduction, Spies/Secret Agents, Wor...</td>\n",
       "      <td>https://boardgamegeek.com/boardgame/224037</td>\n",
       "    </tr>\n",
       "    <tr>\n",
       "      <th>1</th>\n",
       "      <td>104162</td>\n",
       "      <td>Descent: Journeys in the Dark (Second Edition)</td>\n",
       "      <td>2012.0</td>\n",
       "      <td>7.42515</td>\n",
       "      <td>128</td>\n",
       "      <td>40</td>\n",
       "      <td>Thematic Rank</td>\n",
       "      <td>120.0</td>\n",
       "      <td>14.0</td>\n",
       "      <td>1.0</td>\n",
       "      <td>5.0</td>\n",
       "      <td>https://cf.geekdo-images.com/ZN2rpiJ19lg5DZk_i...</td>\n",
       "      <td>Adventure, Exploration, Fantasy, Fighting, Min...</td>\n",
       "      <td>https://boardgamegeek.com/boardgame/104162</td>\n",
       "    </tr>\n",
       "    <tr>\n",
       "      <th>2</th>\n",
       "      <td>91872</td>\n",
       "      <td>Dungeons &amp; Dragons: The Legend of Drizzt Board...</td>\n",
       "      <td>2011.0</td>\n",
       "      <td>6.75197</td>\n",
       "      <td>674</td>\n",
       "      <td>163</td>\n",
       "      <td>Thematic Rank</td>\n",
       "      <td>60.0</td>\n",
       "      <td>12.0</td>\n",
       "      <td>1.0</td>\n",
       "      <td>5.0</td>\n",
       "      <td>https://cf.geekdo-images.com/pcdCF6fDsqrQlzWtO...</td>\n",
       "      <td>Adventure, Exploration, Fantasy, Fighting, Min...</td>\n",
       "      <td>https://boardgamegeek.com/boardgame/91872</td>\n",
       "    </tr>\n",
       "  </tbody>\n",
       "</table>\n",
       "</div>"
      ],
      "text/plain": [
       "       Id                                               Name  Release  \\\n",
       "0  224037                                    Codenames: Duet   2017.0   \n",
       "1  104162     Descent: Journeys in the Dark (Second Edition)   2012.0   \n",
       "2   91872  Dungeons & Dragons: The Legend of Drizzt Board...   2011.0   \n",
       "\n",
       "    Rating Ranking Subtype_Ranking      Subtype_Name  Playing_Time  Min_Age  \\\n",
       "0  7.33735     171              26  Family Game Rank          30.0     11.0   \n",
       "1  7.42515     128              40     Thematic Rank         120.0     14.0   \n",
       "2  6.75197     674             163     Thematic Rank          60.0     12.0   \n",
       "\n",
       "   Min_Players  Max_Players  \\\n",
       "0          2.0          2.0   \n",
       "1          1.0          5.0   \n",
       "2          1.0          5.0   \n",
       "\n",
       "                                           Thumbnail  \\\n",
       "0  https://cf.geekdo-images.com/0d1EaMVmAiIBROI2Q...   \n",
       "1  https://cf.geekdo-images.com/ZN2rpiJ19lg5DZk_i...   \n",
       "2  https://cf.geekdo-images.com/pcdCF6fDsqrQlzWtO...   \n",
       "\n",
       "                                                Tags  \\\n",
       "0  Card Game, Deduction, Spies/Secret Agents, Wor...   \n",
       "1  Adventure, Exploration, Fantasy, Fighting, Min...   \n",
       "2  Adventure, Exploration, Fantasy, Fighting, Min...   \n",
       "\n",
       "                                          URL  \n",
       "0  https://boardgamegeek.com/boardgame/224037  \n",
       "1  https://boardgamegeek.com/boardgame/104162  \n",
       "2   https://boardgamegeek.com/boardgame/91872  "
      ]
     },
     "execution_count": 115,
     "metadata": {},
     "output_type": "execute_result"
    }
   ],
   "source": [
    "bg.head(3)"
   ]
  },
  {
   "cell_type": "code",
   "execution_count": 116,
   "id": "7ecf2976",
   "metadata": {},
   "outputs": [
    {
     "data": {
      "text/html": [
       "<div>\n",
       "<style scoped>\n",
       "    .dataframe tbody tr th:only-of-type {\n",
       "        vertical-align: middle;\n",
       "    }\n",
       "\n",
       "    .dataframe tbody tr th {\n",
       "        vertical-align: top;\n",
       "    }\n",
       "\n",
       "    .dataframe thead th {\n",
       "        text-align: right;\n",
       "    }\n",
       "</style>\n",
       "<table border=\"1\" class=\"dataframe\">\n",
       "  <thead>\n",
       "    <tr style=\"text-align: right;\">\n",
       "      <th></th>\n",
       "      <th>Id</th>\n",
       "      <th>Name</th>\n",
       "      <th>Release</th>\n",
       "      <th>Rating</th>\n",
       "      <th>Rating_Recent</th>\n",
       "      <th>Thumbnail</th>\n",
       "      <th>URL</th>\n",
       "      <th>Tags</th>\n",
       "    </tr>\n",
       "  </thead>\n",
       "  <tbody>\n",
       "    <tr>\n",
       "      <th>0</th>\n",
       "      <td>533780</td>\n",
       "      <td>Zombie Defense</td>\n",
       "      <td>Sep 30, 2016</td>\n",
       "      <td>- 82% of the 1,861 user reviews for this game ...</td>\n",
       "      <td>- 91% of the 12 user reviews in the last 30 da...</td>\n",
       "      <td>https://cdn.akamai.steamstatic.com/steam/apps/...</td>\n",
       "      <td>https://store.steampowered.com/app/533780/</td>\n",
       "      <td>Free to Play, Zombies, Tower Defense, Strategy...</td>\n",
       "    </tr>\n",
       "    <tr>\n",
       "      <th>1</th>\n",
       "      <td>706220</td>\n",
       "      <td>Black Desert</td>\n",
       "      <td>May 24, 2017</td>\n",
       "      <td>- 76% of the 35,736 user reviews for this game...</td>\n",
       "      <td>- 75% of the 566 user reviews in the last 30 d...</td>\n",
       "      <td>https://cdn.akamai.steamstatic.com/steam/apps/...</td>\n",
       "      <td>https://store.steampowered.com/app/706220/</td>\n",
       "      <td>MMORPG, Massively Multiplayer, RPG, Open World...</td>\n",
       "    </tr>\n",
       "    <tr>\n",
       "      <th>2</th>\n",
       "      <td>346330</td>\n",
       "      <td>BrainBread 2</td>\n",
       "      <td>Jul 20, 2016</td>\n",
       "      <td>- 71% of the 4,072 user reviews for this game ...</td>\n",
       "      <td>- 90% of the 20 user reviews in the last 30 da...</td>\n",
       "      <td>https://cdn.akamai.steamstatic.com/steam/apps/...</td>\n",
       "      <td>https://store.steampowered.com/app/346330/</td>\n",
       "      <td>Free to Play, Zombies, Multiplayer, FPS, Survi...</td>\n",
       "    </tr>\n",
       "  </tbody>\n",
       "</table>\n",
       "</div>"
      ],
      "text/plain": [
       "       Id            Name       Release  \\\n",
       "0  533780  Zombie Defense  Sep 30, 2016   \n",
       "1  706220    Black Desert  May 24, 2017   \n",
       "2  346330    BrainBread 2  Jul 20, 2016   \n",
       "\n",
       "                                              Rating  \\\n",
       "0  - 82% of the 1,861 user reviews for this game ...   \n",
       "1  - 76% of the 35,736 user reviews for this game...   \n",
       "2  - 71% of the 4,072 user reviews for this game ...   \n",
       "\n",
       "                                       Rating_Recent  \\\n",
       "0  - 91% of the 12 user reviews in the last 30 da...   \n",
       "1  - 75% of the 566 user reviews in the last 30 d...   \n",
       "2  - 90% of the 20 user reviews in the last 30 da...   \n",
       "\n",
       "                                           Thumbnail  \\\n",
       "0  https://cdn.akamai.steamstatic.com/steam/apps/...   \n",
       "1  https://cdn.akamai.steamstatic.com/steam/apps/...   \n",
       "2  https://cdn.akamai.steamstatic.com/steam/apps/...   \n",
       "\n",
       "                                          URL  \\\n",
       "0  https://store.steampowered.com/app/533780/   \n",
       "1  https://store.steampowered.com/app/706220/   \n",
       "2  https://store.steampowered.com/app/346330/   \n",
       "\n",
       "                                                Tags  \n",
       "0  Free to Play, Zombies, Tower Defense, Strategy...  \n",
       "1  MMORPG, Massively Multiplayer, RPG, Open World...  \n",
       "2  Free to Play, Zombies, Multiplayer, FPS, Survi...  "
      ]
     },
     "execution_count": 116,
     "metadata": {},
     "output_type": "execute_result"
    }
   ],
   "source": [
    "vg.head(3)"
   ]
  },
  {
   "cell_type": "code",
   "execution_count": 117,
   "id": "8271e243",
   "metadata": {},
   "outputs": [],
   "source": [
    "# Exclude very short playtimes for steam games\n",
    "# Users need at least 10 minutes to decide if it's a bad game!\n",
    "steam = steam[steam.Playtime>=10]"
   ]
  },
  {
   "cell_type": "code",
   "execution_count": 118,
   "id": "848f31e6",
   "metadata": {},
   "outputs": [],
   "source": [
    "# Exclude games no longer on Steam / BoardGameGeek\n",
    "# These have an empty string/NaN/0 for name\n",
    "vg = vg[vg.Name.notnull()]\n",
    "steam = steam[steam.Game.isin(vg.Id)]\n",
    "\n",
    "bg = bg[bg.Name.notnull()]\n",
    "bgg = bgg[bgg.Game.isin(bg.Id)]"
   ]
  },
  {
   "cell_type": "code",
   "execution_count": 119,
   "id": "e789f1d0",
   "metadata": {},
   "outputs": [
    {
     "data": {
      "text/plain": [
       "user948     2735\n",
       "user363     1267\n",
       "user788     1255\n",
       "user632     1217\n",
       "user1385    1162\n",
       "            ... \n",
       "user1014       1\n",
       "user128        1\n",
       "user7          1\n",
       "user891        1\n",
       "user1096       1\n",
       "Name: User, Length: 1309, dtype: int64"
      ]
     },
     "execution_count": 119,
     "metadata": {},
     "output_type": "execute_result"
    }
   ],
   "source": [
    "# Some users only have a few reviews\n",
    "# (want to exclude these)\n",
    "bgg.User.value_counts()"
   ]
  },
  {
   "cell_type": "code",
   "execution_count": 120,
   "id": "118834d8",
   "metadata": {},
   "outputs": [
    {
     "data": {
      "text/plain": [
       "822       559\n",
       "30549     540\n",
       "68448     481\n",
       "36218     478\n",
       "13        447\n",
       "         ... \n",
       "12040       1\n",
       "9993        1\n",
       "32232       1\n",
       "291563      1\n",
       "51385       1\n",
       "Name: Game, Length: 15180, dtype: int64"
      ]
     },
     "execution_count": 120,
     "metadata": {},
     "output_type": "execute_result"
    }
   ],
   "source": [
    "# Likewise, some games only have a few reviews\n",
    "# (also want to exclude these)\n",
    "bgg.Game.value_counts()"
   ]
  },
  {
   "cell_type": "code",
   "execution_count": 121,
   "id": "24f5bede",
   "metadata": {},
   "outputs": [],
   "source": [
    "# Prune games and users with few reviews until every user has at least n reviews\n",
    "# and every game has at least k reviews\n",
    "# Function takes DataFrame with User and Game columns\n",
    "def prune_games_data(dataframe, min_scores_per_user=5, min_scores_per_game=5):\n",
    "    df = dataframe.copy()\n",
    "    start = True\n",
    "    while start or len(games_to_exclude) > 0 or len(users_to_exclude) > 0:\n",
    "        # games with less than min_scores reviews\n",
    "        games_to_exclude = df.Game.value_counts().index[df.Game.value_counts()<min_scores_per_game].tolist()\n",
    "        # users with less than min scores reviews\n",
    "        users_to_exclude = df.User.value_counts().index[df.User.value_counts()<min_scores_per_user].tolist()\n",
    "        df = df[(~df.Game.isin(games_to_exclude))&~(df.User.isin(users_to_exclude))]\n",
    "        if start:\n",
    "            start = False\n",
    "    return df"
   ]
  },
  {
   "cell_type": "code",
   "execution_count": 122,
   "id": "2596882d",
   "metadata": {},
   "outputs": [
    {
     "data": {
      "text/plain": [
       "user948     1079\n",
       "user665      854\n",
       "user363      802\n",
       "user1222     795\n",
       "user788      781\n",
       "            ... \n",
       "user875        7\n",
       "user1173       7\n",
       "user139        7\n",
       "user393        7\n",
       "user259        7\n",
       "Name: User, Length: 1036, dtype: int64"
      ]
     },
     "execution_count": 122,
     "metadata": {},
     "output_type": "execute_result"
    }
   ],
   "source": [
    "# Testing function for minimimum reviews per user\n",
    "cutoff_games = 9\n",
    "cutoff_users = 7\n",
    "prune_games_data(bgg,min_scores_per_user=cutoff_users,min_scores_per_game=cutoff_games).User.value_counts()"
   ]
  },
  {
   "cell_type": "code",
   "execution_count": 123,
   "id": "ac0be95c",
   "metadata": {},
   "outputs": [
    {
     "data": {
      "text/plain": [
       "822       550\n",
       "30549     534\n",
       "68448     474\n",
       "36218     467\n",
       "13        436\n",
       "         ... \n",
       "136056      9\n",
       "17557       9\n",
       "133632      9\n",
       "449         9\n",
       "3086        9\n",
       "Name: Game, Length: 2548, dtype: int64"
      ]
     },
     "execution_count": 123,
     "metadata": {},
     "output_type": "execute_result"
    }
   ],
   "source": [
    "# Testing function for minimimum reviews per game\n",
    "cutoff_games = 9\n",
    "cutoff_users = 7\n",
    "prune_games_data(bgg,min_scores_per_user=cutoff_users,min_scores_per_game=cutoff_games).Game.value_counts()"
   ]
  },
  {
   "cell_type": "code",
   "execution_count": 124,
   "id": "57a8940f",
   "metadata": {},
   "outputs": [],
   "source": [
    "cutoff_games = 5\n",
    "cutoff_users = 10\n",
    "bgg = prune_games_data(bgg,min_scores_per_user=cutoff_users,min_scores_per_game=cutoff_games)\n",
    "steam = prune_games_data(steam,min_scores_per_user=cutoff_users,min_scores_per_game=cutoff_games)"
   ]
  },
  {
   "cell_type": "code",
   "execution_count": 125,
   "id": "cf1a5393",
   "metadata": {},
   "outputs": [],
   "source": [
    "# Only include users on both platforms\n",
    "shared_users = set(bgg.User).intersection(steam.User)\n",
    "bgg = bgg[bgg.User.isin(shared_users)]\n",
    "steam = steam[steam.User.isin(shared_users)]"
   ]
  },
  {
   "cell_type": "code",
   "execution_count": 126,
   "id": "8e522d1d",
   "metadata": {},
   "outputs": [
    {
     "data": {
      "text/plain": [
       "822       506\n",
       "30549     500\n",
       "68448     448\n",
       "36218     433\n",
       "13        403\n",
       "         ... \n",
       "267813      3\n",
       "232041      3\n",
       "1628        3\n",
       "6988        3\n",
       "136         2\n",
       "Name: Game, Length: 4067, dtype: int64"
      ]
     },
     "execution_count": 126,
     "metadata": {},
     "output_type": "execute_result"
    }
   ],
   "source": [
    "# After excluding users, some games don't have the minimum number of reviews\n",
    "bgg.Game.value_counts()"
   ]
  },
  {
   "cell_type": "code",
   "execution_count": 127,
   "id": "608dcdf6",
   "metadata": {},
   "outputs": [
    {
     "name": "stdout",
     "output_type": "stream",
     "text": [
      "bgg length before and after pruning: 100015 -> 99207\n",
      "steam length before and after pruning: 217425 -> 213004\n",
      "\n",
      "bgg length before and after pruning: 99207 -> 99207\n",
      "steam length before and after pruning: 213004 -> 212968\n",
      "\n",
      "bgg length before and after pruning: 99207 -> 99207\n",
      "steam length before and after pruning: 212968 -> 212968\n",
      "\n"
     ]
    }
   ],
   "source": [
    "# Repeat checking for shared users, pruning dataframes with minima until\n",
    "# length before pruning and length after pruning are the same\n",
    "start = True\n",
    "while start or \\\n",
    "    bgg_before != bgg_after or \\\n",
    "    steam_before != steam_after:\n",
    "        bgg_before, steam_before = len(bgg), len(steam)\n",
    "        bgg = prune_games_data(bgg,\n",
    "                               min_scores_per_user=cutoff_users,\n",
    "                               min_scores_per_game=cutoff_games)\n",
    "        steam = prune_games_data(steam,min_scores_per_user=\n",
    "                                 cutoff_users,\n",
    "                                 min_scores_per_game=cutoff_games)\n",
    "        shared_users = set(bgg.User).intersection(steam.User)\n",
    "        bgg = bgg[bgg.User.isin(shared_users)]\n",
    "        steam = steam[steam.User.isin(shared_users)]\n",
    "        bgg_after, steam_after = len(bgg), len(steam)\n",
    "        print(\"bgg length before and after pruning: \" + str(bgg_before) + \" -> \" + str(bgg_after))\n",
    "        print(\"steam length before and after pruning: \" + str(steam_before) + \" -> \" + str(steam_after) + '\\n')\n",
    "        if start:\n",
    "            start = False"
   ]
  },
  {
   "cell_type": "code",
   "execution_count": 128,
   "id": "ec8f3581",
   "metadata": {},
   "outputs": [
    {
     "name": "stdout",
     "output_type": "stream",
     "text": [
      "822       506\n",
      "30549     499\n",
      "68448     448\n",
      "36218     433\n",
      "13        402\n",
      "         ... \n",
      "125658      5\n",
      "24771       5\n",
      "262208      5\n",
      "37301       5\n",
      "62709       5\n",
      "Name: Game, Length: 3865, dtype: int64 \n",
      "\n",
      " user948     1326\n",
      "user788      914\n",
      "user632      905\n",
      "user665      904\n",
      "user1222     890\n",
      "            ... \n",
      "user766       10\n",
      "user929       10\n",
      "user465       10\n",
      "user355       10\n",
      "user576       10\n",
      "Name: User, Length: 928, dtype: int64\n"
     ]
    }
   ],
   "source": [
    "# Every game now has 5+ reviews and every user has 10+ reviews\n",
    "print(bgg.Game.value_counts(), '\\n\\n', bgg.User.value_counts())"
   ]
  },
  {
   "cell_type": "code",
   "execution_count": 129,
   "id": "87819b98",
   "metadata": {},
   "outputs": [],
   "source": [
    "# Add z-score ratings to BGG ratings\n",
    "grouped = bgg.groupby('User')\n",
    "ratings_z = (bgg.Rating - grouped.Rating.transform('mean')) / (grouped.Rating.transform('std'))\n",
    "bgg = pd.concat([bgg, ratings_z], axis=1)\n",
    "bgg.columns = ['User', 'Game', 'Rating', 'Rating_Z']"
   ]
  },
  {
   "cell_type": "code",
   "execution_count": 130,
   "id": "f587d9eb",
   "metadata": {},
   "outputs": [
    {
     "data": {
      "image/png": "[encoded data removed]",
      "text/plain": [
       "<Figure size 432x288 with 2 Axes>"
      ]
     },
     "metadata": {
      "needs_background": "light"
     },
     "output_type": "display_data"
    }
   ],
   "source": [
    "bgg[['Rating','Rating_Z']].hist();"
   ]
  },
  {
   "cell_type": "code",
   "execution_count": 131,
   "id": "7e136606",
   "metadata": {},
   "outputs": [
    {
     "data": {
      "text/html": [
       "<div>\n",
       "<style scoped>\n",
       "    .dataframe tbody tr th:only-of-type {\n",
       "        vertical-align: middle;\n",
       "    }\n",
       "\n",
       "    .dataframe tbody tr th {\n",
       "        vertical-align: top;\n",
       "    }\n",
       "\n",
       "    .dataframe thead th {\n",
       "        text-align: right;\n",
       "    }\n",
       "</style>\n",
       "<table border=\"1\" class=\"dataframe\">\n",
       "  <thead>\n",
       "    <tr style=\"text-align: right;\">\n",
       "      <th></th>\n",
       "      <th>Game</th>\n",
       "      <th>Playtime</th>\n",
       "    </tr>\n",
       "  </thead>\n",
       "  <tbody>\n",
       "    <tr>\n",
       "      <th>count</th>\n",
       "      <td>2.129680e+05</td>\n",
       "      <td>212968.000000</td>\n",
       "    </tr>\n",
       "    <tr>\n",
       "      <th>mean</th>\n",
       "      <td>2.711251e+05</td>\n",
       "      <td>747.840643</td>\n",
       "    </tr>\n",
       "    <tr>\n",
       "      <th>std</th>\n",
       "      <td>1.961980e+05</td>\n",
       "      <td>1846.152350</td>\n",
       "    </tr>\n",
       "    <tr>\n",
       "      <th>min</th>\n",
       "      <td>1.000000e+01</td>\n",
       "      <td>10.000000</td>\n",
       "    </tr>\n",
       "    <tr>\n",
       "      <th>25%</th>\n",
       "      <td>1.087100e+05</td>\n",
       "      <td>77.000000</td>\n",
       "    </tr>\n",
       "    <tr>\n",
       "      <th>50%</th>\n",
       "      <td>2.518500e+05</td>\n",
       "      <td>207.000000</td>\n",
       "    </tr>\n",
       "    <tr>\n",
       "      <th>75%</th>\n",
       "      <td>3.643900e+05</td>\n",
       "      <td>550.000000</td>\n",
       "    </tr>\n",
       "    <tr>\n",
       "      <th>max</th>\n",
       "      <td>1.305720e+06</td>\n",
       "      <td>20864.000000</td>\n",
       "    </tr>\n",
       "  </tbody>\n",
       "</table>\n",
       "</div>"
      ],
      "text/plain": [
       "               Game       Playtime\n",
       "count  2.129680e+05  212968.000000\n",
       "mean   2.711251e+05     747.840643\n",
       "std    1.961980e+05    1846.152350\n",
       "min    1.000000e+01      10.000000\n",
       "25%    1.087100e+05      77.000000\n",
       "50%    2.518500e+05     207.000000\n",
       "75%    3.643900e+05     550.000000\n",
       "max    1.305720e+06   20864.000000"
      ]
     },
     "execution_count": 131,
     "metadata": {},
     "output_type": "execute_result"
    }
   ],
   "source": [
    "# Switching to Steam playtimes...\n",
    "# Some players have extreme playtimes -- 20,000 minutes (333 hours)\n",
    "# Not very normally distributed\n",
    "steam.describe()"
   ]
  },
  {
   "cell_type": "code",
   "execution_count": 132,
   "id": "c17d1afa",
   "metadata": {},
   "outputs": [
    {
     "data": {
      "image/png": "[encoded data removed]",
      "text/plain": [
       "<Figure size 432x288 with 2 Axes>"
      ]
     },
     "metadata": {
      "needs_background": "light"
     },
     "output_type": "display_data"
    }
   ],
   "source": [
    "# Log transform to get rid of heavy right tail\n",
    "steam['Playtime_Log'] = steam.Playtime.apply(np.log)\n",
    "steam[['Playtime','Playtime_Log']].hist();"
   ]
  },
  {
   "cell_type": "code",
   "execution_count": 133,
   "id": "1d06eccd",
   "metadata": {},
   "outputs": [],
   "source": [
    "# Z transform playtimes\n",
    "grouped = steam.groupby('User')\n",
    "playtimes_z = (steam.Playtime_Log - grouped.Playtime_Log.transform('mean')) / (grouped.Playtime_Log.transform('std'))\n",
    "steam = pd.concat([steam, playtimes_z], axis=1)\n",
    "steam.columns = ['User', 'Game', 'Playtime', 'Playtime_Log', 'Playtime_Z']"
   ]
  },
  {
   "cell_type": "code",
   "execution_count": 134,
   "id": "19caf402",
   "metadata": {},
   "outputs": [
    {
     "data": {
      "text/html": [
       "<div>\n",
       "<style scoped>\n",
       "    .dataframe tbody tr th:only-of-type {\n",
       "        vertical-align: middle;\n",
       "    }\n",
       "\n",
       "    .dataframe tbody tr th {\n",
       "        vertical-align: top;\n",
       "    }\n",
       "\n",
       "    .dataframe thead th {\n",
       "        text-align: right;\n",
       "    }\n",
       "</style>\n",
       "<table border=\"1\" class=\"dataframe\">\n",
       "  <thead>\n",
       "    <tr style=\"text-align: right;\">\n",
       "      <th></th>\n",
       "      <th>User</th>\n",
       "      <th>Game</th>\n",
       "      <th>Playtime</th>\n",
       "      <th>Playtime_Log</th>\n",
       "      <th>Playtime_Z</th>\n",
       "    </tr>\n",
       "  </thead>\n",
       "  <tbody>\n",
       "    <tr>\n",
       "      <th>165</th>\n",
       "      <td>user1</td>\n",
       "      <td>1008800</td>\n",
       "      <td>50.0</td>\n",
       "      <td>3.912023</td>\n",
       "      <td>-0.697585</td>\n",
       "    </tr>\n",
       "    <tr>\n",
       "      <th>166</th>\n",
       "      <td>user1</td>\n",
       "      <td>1015930</td>\n",
       "      <td>16.0</td>\n",
       "      <td>2.772589</td>\n",
       "      <td>-1.327821</td>\n",
       "    </tr>\n",
       "    <tr>\n",
       "      <th>167</th>\n",
       "      <td>user1</td>\n",
       "      <td>1063580</td>\n",
       "      <td>720.0</td>\n",
       "      <td>6.579251</td>\n",
       "      <td>0.777693</td>\n",
       "    </tr>\n",
       "  </tbody>\n",
       "</table>\n",
       "</div>"
      ],
      "text/plain": [
       "      User     Game  Playtime  Playtime_Log  Playtime_Z\n",
       "165  user1  1008800      50.0      3.912023   -0.697585\n",
       "166  user1  1015930      16.0      2.772589   -1.327821\n",
       "167  user1  1063580     720.0      6.579251    0.777693"
      ]
     },
     "execution_count": 134,
     "metadata": {},
     "output_type": "execute_result"
    }
   ],
   "source": [
    "steam.head(3)"
   ]
  },
  {
   "cell_type": "code",
   "execution_count": 135,
   "id": "cfc0af5e",
   "metadata": {
    "scrolled": true
   },
   "outputs": [
    {
     "data": {
      "image/png": "[encoded data removed]",
      "text/plain": [
       "<Figure size 432x288 with 4 Axes>"
      ]
     },
     "metadata": {
      "needs_background": "light"
     },
     "output_type": "display_data"
    }
   ],
   "source": [
    "steam[['Playtime','Playtime_Log','Playtime_Z']].hist();"
   ]
  },
  {
   "cell_type": "code",
   "execution_count": 136,
   "id": "c6d5cbf1",
   "metadata": {
    "scrolled": true
   },
   "outputs": [
    {
     "data": {
      "text/plain": [
       "Double Fine Adventure         4\n",
       "Oats Studios - Volume 1       3\n",
       "Black Desert                  3\n",
       "F.E.A.R.                      3\n",
       "Ys I & II Chronicles+         2\n",
       "                             ..\n",
       "Thief™ II: The Metal Age      1\n",
       "ENDLESS™ Space 2              1\n",
       "Doki Doki Literature Club!    1\n",
       "Destiny Warriors RPG          1\n",
       "GOD EATER 3                   1\n",
       "Name: Name, Length: 6177, dtype: int64"
      ]
     },
     "execution_count": 136,
     "metadata": {},
     "output_type": "execute_result"
    }
   ],
   "source": [
    "# Check for duplicate game names\n",
    "# (easier if games are stored with name rather than ID for web app)\n",
    "vg = vg[vg.Id.isin(steam.Game)]\n",
    "vg.Name.value_counts()"
   ]
  },
  {
   "cell_type": "code",
   "execution_count": 137,
   "id": "e0bd4e3a",
   "metadata": {},
   "outputs": [
    {
     "data": {
      "text/html": [
       "<div>\n",
       "<style scoped>\n",
       "    .dataframe tbody tr th:only-of-type {\n",
       "        vertical-align: middle;\n",
       "    }\n",
       "\n",
       "    .dataframe tbody tr th {\n",
       "        vertical-align: top;\n",
       "    }\n",
       "\n",
       "    .dataframe thead th {\n",
       "        text-align: right;\n",
       "    }\n",
       "</style>\n",
       "<table border=\"1\" class=\"dataframe\">\n",
       "  <thead>\n",
       "    <tr style=\"text-align: right;\">\n",
       "      <th></th>\n",
       "      <th>Id</th>\n",
       "      <th>Name</th>\n",
       "      <th>Release</th>\n",
       "      <th>Rating</th>\n",
       "      <th>Rating_Recent</th>\n",
       "      <th>Thumbnail</th>\n",
       "      <th>URL</th>\n",
       "      <th>Tags</th>\n",
       "    </tr>\n",
       "  </thead>\n",
       "  <tbody>\n",
       "    <tr>\n",
       "      <th>1</th>\n",
       "      <td>706220</td>\n",
       "      <td>Black Desert</td>\n",
       "      <td>May 24, 2017</td>\n",
       "      <td>- 76% of the 35,736 user reviews for this game...</td>\n",
       "      <td>- 75% of the 566 user reviews in the last 30 d...</td>\n",
       "      <td>https://cdn.akamai.steamstatic.com/steam/apps/...</td>\n",
       "      <td>https://store.steampowered.com/app/706220/</td>\n",
       "      <td>MMORPG, Massively Multiplayer, RPG, Open World...</td>\n",
       "    </tr>\n",
       "    <tr>\n",
       "      <th>5627</th>\n",
       "      <td>582660</td>\n",
       "      <td>Black Desert</td>\n",
       "      <td>May 24, 2017</td>\n",
       "      <td>- 76% of the 35,738 user reviews for this game...</td>\n",
       "      <td>- 75% of the 571 user reviews in the last 30 d...</td>\n",
       "      <td>https://cdn.akamai.steamstatic.com/steam/apps/...</td>\n",
       "      <td>https://store.steampowered.com/app/582660/</td>\n",
       "      <td>MMORPG, Massively Multiplayer, RPG, Open World...</td>\n",
       "    </tr>\n",
       "    <tr>\n",
       "      <th>14535</th>\n",
       "      <td>836620</td>\n",
       "      <td>Black Desert</td>\n",
       "      <td>May 24, 2017</td>\n",
       "      <td>- 76% of the 35,966 user reviews for this game...</td>\n",
       "      <td>- 73% of the 699 user reviews in the last 30 d...</td>\n",
       "      <td>https://cdn.akamai.steamstatic.com/steam/apps/...</td>\n",
       "      <td>https://store.steampowered.com/app/836620/</td>\n",
       "      <td>MMORPG, Massively Multiplayer, RPG, Open World...</td>\n",
       "    </tr>\n",
       "  </tbody>\n",
       "</table>\n",
       "</div>"
      ],
      "text/plain": [
       "           Id          Name       Release  \\\n",
       "1      706220  Black Desert  May 24, 2017   \n",
       "5627   582660  Black Desert  May 24, 2017   \n",
       "14535  836620  Black Desert  May 24, 2017   \n",
       "\n",
       "                                                  Rating  \\\n",
       "1      - 76% of the 35,736 user reviews for this game...   \n",
       "5627   - 76% of the 35,738 user reviews for this game...   \n",
       "14535  - 76% of the 35,966 user reviews for this game...   \n",
       "\n",
       "                                           Rating_Recent  \\\n",
       "1      - 75% of the 566 user reviews in the last 30 d...   \n",
       "5627   - 75% of the 571 user reviews in the last 30 d...   \n",
       "14535  - 73% of the 699 user reviews in the last 30 d...   \n",
       "\n",
       "                                               Thumbnail  \\\n",
       "1      https://cdn.akamai.steamstatic.com/steam/apps/...   \n",
       "5627   https://cdn.akamai.steamstatic.com/steam/apps/...   \n",
       "14535  https://cdn.akamai.steamstatic.com/steam/apps/...   \n",
       "\n",
       "                                              URL  \\\n",
       "1      https://store.steampowered.com/app/706220/   \n",
       "5627   https://store.steampowered.com/app/582660/   \n",
       "14535  https://store.steampowered.com/app/836620/   \n",
       "\n",
       "                                                    Tags  \n",
       "1      MMORPG, Massively Multiplayer, RPG, Open World...  \n",
       "5627   MMORPG, Massively Multiplayer, RPG, Open World...  \n",
       "14535  MMORPG, Massively Multiplayer, RPG, Open World...  "
      ]
     },
     "execution_count": 137,
     "metadata": {},
     "output_type": "execute_result"
    }
   ],
   "source": [
    "# Some games have multiple entries -- probably changed ids\n",
    "# (maybe they were re-released on the platform)\n",
    "# For Black Desert, Steam redirects url rq ending in /582660 to /836620\n",
    "vg[vg.Name=='Black Desert']"
   ]
  },
  {
   "cell_type": "code",
   "execution_count": 138,
   "id": "fa900ec6",
   "metadata": {},
   "outputs": [
    {
     "data": {
      "text/plain": [
       "1                                   Black Desert\n",
       "298                                         none\n",
       "305                           Dawn of Discovery™\n",
       "549                                         none\n",
       "884                               RIP - Trilogy™\n",
       "                          ...                   \n",
       "13318                    Oats Studios - Volume 1\n",
       "14460    Sword of the Stars: Complete Collection\n",
       "14535                               Black Desert\n",
       "14718                                   The Path\n",
       "14896                         Dawn of Discovery™\n",
       "Name: Name, Length: 69, dtype: object"
      ]
     },
     "execution_count": 138,
     "metadata": {},
     "output_type": "execute_result"
    }
   ],
   "source": [
    "# Best solution is to merge these duped games, combining reviews and scores\n",
    "# TODO: This ^^^^\n",
    "# Workaround for now: add steam id for games that have duplicates\n",
    "vg_duped_names = vg.loc[vg.Name.duplicated(keep=False),'Name']\n",
    "vg_duped_names_ids = vg.loc[vg.Name.duplicated(keep=False),'Id']\n",
    "vg_duped_names"
   ]
  },
  {
   "cell_type": "code",
   "execution_count": 139,
   "id": "9fd57cb0",
   "metadata": {
    "scrolled": true
   },
   "outputs": [
    {
     "data": {
      "text/plain": [
       "1                                  Black Desert (706220)\n",
       "298                                        none (339860)\n",
       "305                           Dawn of Discovery™ (33210)\n",
       "549                                        none (385020)\n",
       "884                                RIP - Trilogy™ (2545)\n",
       "                              ...                       \n",
       "13318                   Oats Studios - Volume 1 (669300)\n",
       "14460    Sword of the Stars: Complete Collection (25860)\n",
       "14535                              Black Desert (836620)\n",
       "14718                                   The Path (27040)\n",
       "14896                         Dawn of Discovery™ (33250)\n",
       "Length: 69, dtype: object"
      ]
     },
     "execution_count": 139,
     "metadata": {},
     "output_type": "execute_result"
    }
   ],
   "source": [
    "# Steam Id in parens for duped games\n",
    "new_names = vg_duped_names + ' (' + vg_duped_names_ids.astype(str) + ')'\n",
    "new_names"
   ]
  },
  {
   "cell_type": "code",
   "execution_count": 140,
   "id": "eff2e15a",
   "metadata": {},
   "outputs": [
    {
     "data": {
      "text/plain": [
       "Solstice                       1\n",
       "SpellForce 3: Soul Harvest     1\n",
       "Max Stern                      1\n",
       "Tinboy                         1\n",
       "Oxenfree                       1\n",
       "                              ..\n",
       "Dex                            1\n",
       "NEKOPARA Vol. 2                1\n",
       "Saint Seiya: Soldiers' Soul    1\n",
       "Thief™ II: The Metal Age       1\n",
       "GOD EATER 3                    1\n",
       "Name: Name, Length: 6214, dtype: int64"
      ]
     },
     "execution_count": 140,
     "metadata": {},
     "output_type": "execute_result"
    }
   ],
   "source": [
    "vg.loc[vg.Name.duplicated(keep=False),'Name'] = new_names\n",
    "vg.Name.value_counts()"
   ]
  },
  {
   "cell_type": "code",
   "execution_count": 141,
   "id": "ccf9407c",
   "metadata": {},
   "outputs": [
    {
     "data": {
      "text/plain": [
       "Puerto Rico                2\n",
       "Illuminati                 2\n",
       "Stratego                   2\n",
       "The Castles of Burgundy    2\n",
       "Clue                       2\n",
       "                          ..\n",
       "Casino Las Vegas           1\n",
       "Czółko                     1\n",
       "Operation Solace           1\n",
       "Martian Rails              1\n",
       "Jenga: Truth or Dare       1\n",
       "Name: Name, Length: 15172, dtype: int64"
      ]
     },
     "execution_count": 141,
     "metadata": {},
     "output_type": "execute_result"
    }
   ],
   "source": [
    "# Checking for duped board game names\n",
    "bg.Name.value_counts()"
   ]
  },
  {
   "cell_type": "code",
   "execution_count": 142,
   "id": "dd3658da",
   "metadata": {},
   "outputs": [
    {
     "data": {
      "text/plain": [
       "Go Fish                         1\n",
       "Ceres: Operation Stolen Base    1\n",
       "Flee The Scene                  1\n",
       "Swintus Junior                  1\n",
       "Gretchinz!                      1\n",
       "                               ..\n",
       "Czółko                          1\n",
       "Operation Solace                1\n",
       "Martian Rails                   1\n",
       "De Mol                          1\n",
       "Jenga: Truth or Dare            1\n",
       "Name: Name, Length: 15180, dtype: int64"
      ]
     },
     "execution_count": 142,
     "metadata": {},
     "output_type": "execute_result"
    }
   ],
   "source": [
    "bg_duped_names = bg.loc[bg.Name.duplicated(keep=False),'Name']\n",
    "bg_duped_names_ids = bg.loc[bg.Name.duplicated(keep=False),'Id']\n",
    "bg.loc[bg.Name.duplicated(keep=False),'Name'] = bg_duped_names + ' (' + bg_duped_names_ids.astype(str) + ')'\n",
    "bg.Name.value_counts()"
   ]
  },
  {
   "cell_type": "markdown",
   "id": "a3208406",
   "metadata": {},
   "source": [
    "### Build similarity matrices"
   ]
  },
  {
   "cell_type": "code",
   "execution_count": 143,
   "id": "a642ee49",
   "metadata": {},
   "outputs": [
    {
     "data": {
      "text/plain": [
       "(       User    Game  Rating  Rating_Z\n",
       " 1   user103  224037     5.0 -0.782193\n",
       " 2  user1083  224037    10.0  2.174179\n",
       " 3  user1085  224037     9.5  1.633273,\n",
       "       User     Game  Playtime  Playtime_Log  Playtime_Z\n",
       " 165  user1  1008800      50.0      3.912023   -0.697585\n",
       " 166  user1  1015930      16.0      2.772589   -1.327821\n",
       " 167  user1  1063580     720.0      6.579251    0.777693)"
      ]
     },
     "execution_count": 143,
     "metadata": {},
     "output_type": "execute_result"
    }
   ],
   "source": [
    "# Datasets\n",
    "bgg.head(3), steam.head(3)"
   ]
  },
  {
   "cell_type": "code",
   "execution_count": 144,
   "id": "b86c834f",
   "metadata": {},
   "outputs": [
    {
     "data": {
      "text/html": [
       "<div>\n",
       "<style scoped>\n",
       "    .dataframe tbody tr th:only-of-type {\n",
       "        vertical-align: middle;\n",
       "    }\n",
       "\n",
       "    .dataframe tbody tr th {\n",
       "        vertical-align: top;\n",
       "    }\n",
       "\n",
       "    .dataframe thead th {\n",
       "        text-align: right;\n",
       "    }\n",
       "</style>\n",
       "<table border=\"1\" class=\"dataframe\">\n",
       "  <thead>\n",
       "    <tr style=\"text-align: right;\">\n",
       "      <th>User</th>\n",
       "      <th>user1</th>\n",
       "      <th>user100</th>\n",
       "      <th>user1000</th>\n",
       "      <th>user1003</th>\n",
       "      <th>user1005</th>\n",
       "    </tr>\n",
       "    <tr>\n",
       "      <th>Game</th>\n",
       "      <th></th>\n",
       "      <th></th>\n",
       "      <th></th>\n",
       "      <th></th>\n",
       "      <th></th>\n",
       "    </tr>\n",
       "  </thead>\n",
       "  <tbody>\n",
       "    <tr>\n",
       "      <th>1</th>\n",
       "      <td>2.183859</td>\n",
       "      <td>NaN</td>\n",
       "      <td>NaN</td>\n",
       "      <td>NaN</td>\n",
       "      <td>NaN</td>\n",
       "    </tr>\n",
       "    <tr>\n",
       "      <th>3</th>\n",
       "      <td>NaN</td>\n",
       "      <td>NaN</td>\n",
       "      <td>NaN</td>\n",
       "      <td>NaN</td>\n",
       "      <td>NaN</td>\n",
       "    </tr>\n",
       "    <tr>\n",
       "      <th>5</th>\n",
       "      <td>NaN</td>\n",
       "      <td>NaN</td>\n",
       "      <td>NaN</td>\n",
       "      <td>NaN</td>\n",
       "      <td>NaN</td>\n",
       "    </tr>\n",
       "    <tr>\n",
       "      <th>7</th>\n",
       "      <td>NaN</td>\n",
       "      <td>NaN</td>\n",
       "      <td>NaN</td>\n",
       "      <td>NaN</td>\n",
       "      <td>NaN</td>\n",
       "    </tr>\n",
       "    <tr>\n",
       "      <th>9</th>\n",
       "      <td>NaN</td>\n",
       "      <td>NaN</td>\n",
       "      <td>NaN</td>\n",
       "      <td>NaN</td>\n",
       "      <td>NaN</td>\n",
       "    </tr>\n",
       "  </tbody>\n",
       "</table>\n",
       "</div>"
      ],
      "text/plain": [
       "User     user1  user100  user1000  user1003  user1005\n",
       "Game                                                 \n",
       "1     2.183859      NaN       NaN       NaN       NaN\n",
       "3          NaN      NaN       NaN       NaN       NaN\n",
       "5          NaN      NaN       NaN       NaN       NaN\n",
       "7          NaN      NaN       NaN       NaN       NaN\n",
       "9          NaN      NaN       NaN       NaN       NaN"
      ]
     },
     "execution_count": 144,
     "metadata": {},
     "output_type": "execute_result"
    }
   ],
   "source": [
    "# User-item matrix for bgg\n",
    "ui_bgg = bgg.pivot(index='Game', columns='User', values='Rating_Z')\n",
    "ui_bgg.iloc[:5,:5]"
   ]
  },
  {
   "cell_type": "code",
   "execution_count": 145,
   "id": "cc43a0d7",
   "metadata": {},
   "outputs": [
    {
     "data": {
      "text/html": [
       "<div>\n",
       "<style scoped>\n",
       "    .dataframe tbody tr th:only-of-type {\n",
       "        vertical-align: middle;\n",
       "    }\n",
       "\n",
       "    .dataframe tbody tr th {\n",
       "        vertical-align: top;\n",
       "    }\n",
       "\n",
       "    .dataframe thead th {\n",
       "        text-align: right;\n",
       "    }\n",
       "</style>\n",
       "<table border=\"1\" class=\"dataframe\">\n",
       "  <thead>\n",
       "    <tr style=\"text-align: right;\">\n",
       "      <th>User</th>\n",
       "      <th>user1</th>\n",
       "      <th>user100</th>\n",
       "      <th>user1000</th>\n",
       "      <th>user1003</th>\n",
       "      <th>user1005</th>\n",
       "    </tr>\n",
       "    <tr>\n",
       "      <th>Game</th>\n",
       "      <th></th>\n",
       "      <th></th>\n",
       "      <th></th>\n",
       "      <th></th>\n",
       "      <th></th>\n",
       "    </tr>\n",
       "  </thead>\n",
       "  <tbody>\n",
       "    <tr>\n",
       "      <th>10</th>\n",
       "      <td>NaN</td>\n",
       "      <td>-1.481251</td>\n",
       "      <td>-0.183876</td>\n",
       "      <td>NaN</td>\n",
       "      <td>NaN</td>\n",
       "    </tr>\n",
       "    <tr>\n",
       "      <th>20</th>\n",
       "      <td>NaN</td>\n",
       "      <td>NaN</td>\n",
       "      <td>-0.048340</td>\n",
       "      <td>NaN</td>\n",
       "      <td>NaN</td>\n",
       "    </tr>\n",
       "    <tr>\n",
       "      <th>30</th>\n",
       "      <td>NaN</td>\n",
       "      <td>NaN</td>\n",
       "      <td>0.456381</td>\n",
       "      <td>NaN</td>\n",
       "      <td>NaN</td>\n",
       "    </tr>\n",
       "    <tr>\n",
       "      <th>40</th>\n",
       "      <td>NaN</td>\n",
       "      <td>NaN</td>\n",
       "      <td>-1.105885</td>\n",
       "      <td>NaN</td>\n",
       "      <td>NaN</td>\n",
       "    </tr>\n",
       "    <tr>\n",
       "      <th>50</th>\n",
       "      <td>NaN</td>\n",
       "      <td>NaN</td>\n",
       "      <td>-0.471655</td>\n",
       "      <td>NaN</td>\n",
       "      <td>NaN</td>\n",
       "    </tr>\n",
       "  </tbody>\n",
       "</table>\n",
       "</div>"
      ],
      "text/plain": [
       "User  user1   user100  user1000  user1003  user1005\n",
       "Game                                               \n",
       "10      NaN -1.481251 -0.183876       NaN       NaN\n",
       "20      NaN       NaN -0.048340       NaN       NaN\n",
       "30      NaN       NaN  0.456381       NaN       NaN\n",
       "40      NaN       NaN -1.105885       NaN       NaN\n",
       "50      NaN       NaN -0.471655       NaN       NaN"
      ]
     },
     "execution_count": 145,
     "metadata": {},
     "output_type": "execute_result"
    }
   ],
   "source": [
    "ui_steam = steam.pivot(index='Game', columns='User', values='Playtime_Z')\n",
    "ui_steam.iloc[:5,:5]"
   ]
  },
  {
   "cell_type": "code",
   "execution_count": 146,
   "id": "d9efc779",
   "metadata": {},
   "outputs": [
    {
     "data": {
      "text/html": [
       "<div>\n",
       "<style scoped>\n",
       "    .dataframe tbody tr th:only-of-type {\n",
       "        vertical-align: middle;\n",
       "    }\n",
       "\n",
       "    .dataframe tbody tr th {\n",
       "        vertical-align: top;\n",
       "    }\n",
       "\n",
       "    .dataframe thead th {\n",
       "        text-align: right;\n",
       "    }\n",
       "</style>\n",
       "<table border=\"1\" class=\"dataframe\">\n",
       "  <thead>\n",
       "    <tr style=\"text-align: right;\">\n",
       "      <th>User</th>\n",
       "      <th>user106</th>\n",
       "      <th>user1172</th>\n",
       "      <th>user207</th>\n",
       "      <th>user263</th>\n",
       "      <th>user311</th>\n",
       "      <th>user570</th>\n",
       "      <th>user70</th>\n",
       "      <th>user861</th>\n",
       "      <th>user895</th>\n",
       "      <th>user973</th>\n",
       "    </tr>\n",
       "    <tr>\n",
       "      <th>Game</th>\n",
       "      <th></th>\n",
       "      <th></th>\n",
       "      <th></th>\n",
       "      <th></th>\n",
       "      <th></th>\n",
       "      <th></th>\n",
       "      <th></th>\n",
       "      <th></th>\n",
       "      <th></th>\n",
       "      <th></th>\n",
       "    </tr>\n",
       "  </thead>\n",
       "  <tbody>\n",
       "    <tr>\n",
       "      <th>39210</th>\n",
       "      <td>0.595160</td>\n",
       "      <td>-0.027969</td>\n",
       "      <td>5.380914</td>\n",
       "      <td>2.828327</td>\n",
       "      <td>1.554514</td>\n",
       "      <td>0.923592</td>\n",
       "      <td>-1.197947</td>\n",
       "      <td>2.828327</td>\n",
       "      <td>1.405710</td>\n",
       "      <td>2.358988</td>\n",
       "    </tr>\n",
       "    <tr>\n",
       "      <th>63500</th>\n",
       "      <td>-0.241221</td>\n",
       "      <td>-0.469573</td>\n",
       "      <td>-2.419156</td>\n",
       "      <td>0.602278</td>\n",
       "      <td>0.275776</td>\n",
       "      <td>-0.328485</td>\n",
       "      <td>-1.197947</td>\n",
       "      <td>0.602278</td>\n",
       "      <td>0.122402</td>\n",
       "      <td>-0.794261</td>\n",
       "    </tr>\n",
       "  </tbody>\n",
       "</table>\n",
       "</div>"
      ],
      "text/plain": [
       "User    user106  user1172   user207   user263   user311   user570    user70  \\\n",
       "Game                                                                          \n",
       "39210  0.595160 -0.027969  5.380914  2.828327  1.554514  0.923592 -1.197947   \n",
       "63500 -0.241221 -0.469573 -2.419156  0.602278  0.275776 -0.328485 -1.197947   \n",
       "\n",
       "User    user861   user895   user973  \n",
       "Game                                 \n",
       "39210  2.828327  1.405710  2.358988  \n",
       "63500  0.602278  0.122402 -0.794261  "
      ]
     },
     "execution_count": 146,
     "metadata": {},
     "output_type": "execute_result"
    }
   ],
   "source": [
    "# Game similarity is calculated by comparing user score vectors for pairs of games\n",
    "# If two games have correlated user scores, they're similar\n",
    "# Shown below for Final Fantasy XIV and Swords and Soldiers HD\n",
    "ui_steam.loc[[39210,63500],(ui_steam.loc[39210].notna())&(ui_steam.loc[63500].notna())]"
   ]
  },
  {
   "cell_type": "code",
   "execution_count": 147,
   "id": "e558e18e",
   "metadata": {},
   "outputs": [
    {
     "name": "stdout",
     "output_type": "stream",
     "text": [
      "[[ 1.    0.03  0.04 ... -0.03  0.   -0.08]\n",
      " [ 0.03  1.    0.21 ...  0.    0.    0.02]\n",
      " [ 0.04  0.21  1.   ... -0.02  0.   -0.03]\n",
      " ...\n",
      " [-0.03  0.   -0.02 ...  1.    0.17  0.  ]\n",
      " [ 0.    0.    0.   ...  0.17  1.    0.  ]\n",
      " [-0.08  0.02 -0.03 ...  0.    0.    1.  ]]\n"
     ]
    }
   ],
   "source": [
    "# Item similarity matrix showing cosine similarity between every pair of steam games\n",
    "# cosine similarity = dot product of unit vectors\n",
    "# (this implementation is crazy fast considering this is a 6000x6000 matrix)\n",
    "ism_steam_steam = 1 - pairwise_distances(X=ui_steam.to_numpy(na_value=0),\n",
    "                                        Y=ui_steam.to_numpy(na_value=0),\n",
    "                                        metric='cosine')\n",
    "print(ism_steam_steam.round(2))"
   ]
  },
  {
   "cell_type": "code",
   "execution_count": 148,
   "id": "bb8f2df0",
   "metadata": {},
   "outputs": [
    {
     "name": "stdout",
     "output_type": "stream",
     "text": [
      "[[-0.02 -0.01  0.01 ...  0.    0.   -0.01]\n",
      " [ 0.   -0.   -0.04 ...  0.   -0.03  0.  ]\n",
      " [-0.03 -0.01 -0.03 ...  0.   -0.01 -0.13]\n",
      " ...\n",
      " [ 0.    0.    0.   ...  0.    0.    0.  ]\n",
      " [ 0.02 -0.07 -0.01 ...  0.   -0.02  0.  ]\n",
      " [-0.02  0.    0.   ...  0.    0.    0.  ]]\n"
     ]
    }
   ],
   "source": [
    "# Columns are video games\n",
    "# NB: Diagonal isn't all 1's because X axis and Y axis are different\n",
    "ism_bgg_steam = 1- pairwise_distances(X=ui_bgg.to_numpy(na_value=0),\n",
    "                                      Y=ui_steam.to_numpy(na_value=0),\n",
    "                                      metric='cosine')\n",
    "print(ism_bgg_steam.round(2))"
   ]
  },
  {
   "cell_type": "code",
   "execution_count": 149,
   "id": "7e18041f",
   "metadata": {},
   "outputs": [
    {
     "name": "stdout",
     "output_type": "stream",
     "text": [
      "steam-steam sim matrix (min,max) = (-0.96,1.0)\n",
      "steam-bgg sim matrix (min,max) = (-0.93,0.9)\n"
     ]
    }
   ],
   "source": [
    "# Similarity scores are between -1 and 1\n",
    "# Negative similarity scores occur since some z-scores are negative\n",
    "print('steam-steam sim matrix (min,max) = ({},{})'.format(np.nanmin(ism_steam_steam).round(2),\\\n",
    "                                                          np.nanmax(ism_steam_steam).round(2)))\n",
    "print('steam-bgg sim matrix (min,max) = ({},{})'.format(np.nanmin(ism_bgg_steam).round(2),\\\n",
    "                                                        np.nanmax(ism_bgg_steam).round(2)))"
   ]
  },
  {
   "cell_type": "code",
   "execution_count": 150,
   "id": "cc06aa44",
   "metadata": {},
   "outputs": [
    {
     "data": {
      "text/html": [
       "<div>\n",
       "<style scoped>\n",
       "    .dataframe tbody tr th:only-of-type {\n",
       "        vertical-align: middle;\n",
       "    }\n",
       "\n",
       "    .dataframe tbody tr th {\n",
       "        vertical-align: top;\n",
       "    }\n",
       "\n",
       "    .dataframe thead th {\n",
       "        text-align: right;\n",
       "    }\n",
       "</style>\n",
       "<table border=\"1\" class=\"dataframe\">\n",
       "  <thead>\n",
       "    <tr style=\"text-align: right;\">\n",
       "      <th>Game</th>\n",
       "      <th>10</th>\n",
       "      <th>20</th>\n",
       "      <th>30</th>\n",
       "      <th>40</th>\n",
       "      <th>50</th>\n",
       "    </tr>\n",
       "    <tr>\n",
       "      <th>Game</th>\n",
       "      <th></th>\n",
       "      <th></th>\n",
       "      <th></th>\n",
       "      <th></th>\n",
       "      <th></th>\n",
       "    </tr>\n",
       "  </thead>\n",
       "  <tbody>\n",
       "    <tr>\n",
       "      <th>10</th>\n",
       "      <td>1.000000</td>\n",
       "      <td>0.025940</td>\n",
       "      <td>0.036926</td>\n",
       "      <td>0.088716</td>\n",
       "      <td>-0.079915</td>\n",
       "    </tr>\n",
       "    <tr>\n",
       "      <th>20</th>\n",
       "      <td>0.025940</td>\n",
       "      <td>1.000000</td>\n",
       "      <td>0.206870</td>\n",
       "      <td>0.158379</td>\n",
       "      <td>0.238846</td>\n",
       "    </tr>\n",
       "    <tr>\n",
       "      <th>30</th>\n",
       "      <td>0.036926</td>\n",
       "      <td>0.206870</td>\n",
       "      <td>1.000000</td>\n",
       "      <td>0.353321</td>\n",
       "      <td>-0.022940</td>\n",
       "    </tr>\n",
       "    <tr>\n",
       "      <th>40</th>\n",
       "      <td>0.088716</td>\n",
       "      <td>0.158379</td>\n",
       "      <td>0.353321</td>\n",
       "      <td>1.000000</td>\n",
       "      <td>-0.002974</td>\n",
       "    </tr>\n",
       "    <tr>\n",
       "      <th>50</th>\n",
       "      <td>-0.079915</td>\n",
       "      <td>0.238846</td>\n",
       "      <td>-0.022940</td>\n",
       "      <td>-0.002974</td>\n",
       "      <td>1.000000</td>\n",
       "    </tr>\n",
       "  </tbody>\n",
       "</table>\n",
       "</div>"
      ],
      "text/plain": [
       "Game        10        20        30        40        50\n",
       "Game                                                  \n",
       "10    1.000000  0.025940  0.036926  0.088716 -0.079915\n",
       "20    0.025940  1.000000  0.206870  0.158379  0.238846\n",
       "30    0.036926  0.206870  1.000000  0.353321 -0.022940\n",
       "40    0.088716  0.158379  0.353321  1.000000 -0.002974\n",
       "50   -0.079915  0.238846 -0.022940 -0.002974  1.000000"
      ]
     },
     "execution_count": 150,
     "metadata": {},
     "output_type": "execute_result"
    }
   ],
   "source": [
    "# DataFrame for easier lookup -- can use game name to find similarities with any game\n",
    "# TODO: A named array might be faster\n",
    "ism_steam_steam_df = pd.DataFrame(ism_steam_steam, columns=ui_steam.index, index=ui_steam.index)\n",
    "ism_steam_steam_df.iloc[:5,:5]"
   ]
  },
  {
   "cell_type": "code",
   "execution_count": 151,
   "id": "b0339317",
   "metadata": {},
   "outputs": [
    {
     "data": {
      "text/plain": [
       "[(533780, 'Zombie Defense'),\n",
       " (706220, 'Black Desert (706220)'),\n",
       " (346330, 'BrainBread 2'),\n",
       " (57700, \"Who's That Flying?!\"),\n",
       " (526920, 'SQUAKE'),\n",
       " (402310, 'Overfall'),\n",
       " (342130, 'Hashtag Dungeon'),\n",
       " (371400, 'Downpour'),\n",
       " (363270, 'O3DX'),\n",
       " (985890, 'Streets of Rage 4')]"
      ]
     },
     "execution_count": 151,
     "metadata": {},
     "output_type": "execute_result"
    }
   ],
   "source": [
    "# Dictionary to replace Ids with names\n",
    "steam_names_key = dict(zip(vg.Id, vg.Name))\n",
    "list(steam_names_key.items())[:10]"
   ]
  },
  {
   "cell_type": "code",
   "execution_count": 152,
   "id": "cb698170",
   "metadata": {},
   "outputs": [
    {
     "data": {
      "text/html": [
       "<div>\n",
       "<style scoped>\n",
       "    .dataframe tbody tr th:only-of-type {\n",
       "        vertical-align: middle;\n",
       "    }\n",
       "\n",
       "    .dataframe tbody tr th {\n",
       "        vertical-align: top;\n",
       "    }\n",
       "\n",
       "    .dataframe thead th {\n",
       "        text-align: right;\n",
       "    }\n",
       "</style>\n",
       "<table border=\"1\" class=\"dataframe\">\n",
       "  <thead>\n",
       "    <tr style=\"text-align: right;\">\n",
       "      <th>Game</th>\n",
       "      <th>Counter-Strike</th>\n",
       "      <th>Team Fortress Classic</th>\n",
       "      <th>Day of Defeat</th>\n",
       "      <th>Deathmatch Classic</th>\n",
       "      <th>Half-Life: Opposing Force</th>\n",
       "    </tr>\n",
       "    <tr>\n",
       "      <th>Game</th>\n",
       "      <th></th>\n",
       "      <th></th>\n",
       "      <th></th>\n",
       "      <th></th>\n",
       "      <th></th>\n",
       "    </tr>\n",
       "  </thead>\n",
       "  <tbody>\n",
       "    <tr>\n",
       "      <th>Counter-Strike</th>\n",
       "      <td>1.000000</td>\n",
       "      <td>0.025940</td>\n",
       "      <td>0.036926</td>\n",
       "      <td>0.088716</td>\n",
       "      <td>-0.079915</td>\n",
       "    </tr>\n",
       "    <tr>\n",
       "      <th>Team Fortress Classic</th>\n",
       "      <td>0.025940</td>\n",
       "      <td>1.000000</td>\n",
       "      <td>0.206870</td>\n",
       "      <td>0.158379</td>\n",
       "      <td>0.238846</td>\n",
       "    </tr>\n",
       "    <tr>\n",
       "      <th>Day of Defeat</th>\n",
       "      <td>0.036926</td>\n",
       "      <td>0.206870</td>\n",
       "      <td>1.000000</td>\n",
       "      <td>0.353321</td>\n",
       "      <td>-0.022940</td>\n",
       "    </tr>\n",
       "    <tr>\n",
       "      <th>Deathmatch Classic</th>\n",
       "      <td>0.088716</td>\n",
       "      <td>0.158379</td>\n",
       "      <td>0.353321</td>\n",
       "      <td>1.000000</td>\n",
       "      <td>-0.002974</td>\n",
       "    </tr>\n",
       "    <tr>\n",
       "      <th>Half-Life: Opposing Force</th>\n",
       "      <td>-0.079915</td>\n",
       "      <td>0.238846</td>\n",
       "      <td>-0.022940</td>\n",
       "      <td>-0.002974</td>\n",
       "      <td>1.000000</td>\n",
       "    </tr>\n",
       "  </tbody>\n",
       "</table>\n",
       "</div>"
      ],
      "text/plain": [
       "Game                       Counter-Strike  Team Fortress Classic  \\\n",
       "Game                                                               \n",
       "Counter-Strike                   1.000000               0.025940   \n",
       "Team Fortress Classic            0.025940               1.000000   \n",
       "Day of Defeat                    0.036926               0.206870   \n",
       "Deathmatch Classic               0.088716               0.158379   \n",
       "Half-Life: Opposing Force       -0.079915               0.238846   \n",
       "\n",
       "Game                       Day of Defeat  Deathmatch Classic  \\\n",
       "Game                                                           \n",
       "Counter-Strike                  0.036926            0.088716   \n",
       "Team Fortress Classic           0.206870            0.158379   \n",
       "Day of Defeat                   1.000000            0.353321   \n",
       "Deathmatch Classic              0.353321            1.000000   \n",
       "Half-Life: Opposing Force      -0.022940           -0.002974   \n",
       "\n",
       "Game                       Half-Life: Opposing Force  \n",
       "Game                                                  \n",
       "Counter-Strike                             -0.079915  \n",
       "Team Fortress Classic                       0.238846  \n",
       "Day of Defeat                              -0.022940  \n",
       "Deathmatch Classic                         -0.002974  \n",
       "Half-Life: Opposing Force                   1.000000  "
      ]
     },
     "execution_count": 152,
     "metadata": {},
     "output_type": "execute_result"
    }
   ],
   "source": [
    "# DF with named columns and indices\n",
    "ism_steam_steam_df.rename(columns = steam_names_key, index=steam_names_key, inplace=True)\n",
    "ism_steam_steam_df.iloc[:5,:5]"
   ]
  },
  {
   "cell_type": "code",
   "execution_count": 153,
   "id": "cea0808e",
   "metadata": {},
   "outputs": [
    {
     "data": {
      "text/html": [
       "<div>\n",
       "<style scoped>\n",
       "    .dataframe tbody tr th:only-of-type {\n",
       "        vertical-align: middle;\n",
       "    }\n",
       "\n",
       "    .dataframe tbody tr th {\n",
       "        vertical-align: top;\n",
       "    }\n",
       "\n",
       "    .dataframe thead th {\n",
       "        text-align: right;\n",
       "    }\n",
       "</style>\n",
       "<table border=\"1\" class=\"dataframe\">\n",
       "  <thead>\n",
       "    <tr style=\"text-align: right;\">\n",
       "      <th>Game</th>\n",
       "      <th>Counter-Strike</th>\n",
       "      <th>Team Fortress Classic</th>\n",
       "      <th>Day of Defeat</th>\n",
       "      <th>Deathmatch Classic</th>\n",
       "      <th>Half-Life: Opposing Force</th>\n",
       "    </tr>\n",
       "    <tr>\n",
       "      <th>Game</th>\n",
       "      <th></th>\n",
       "      <th></th>\n",
       "      <th></th>\n",
       "      <th></th>\n",
       "      <th></th>\n",
       "    </tr>\n",
       "  </thead>\n",
       "  <tbody>\n",
       "    <tr>\n",
       "      <th>Die Macher</th>\n",
       "      <td>-0.021792</td>\n",
       "      <td>-0.012481</td>\n",
       "      <td>0.007628</td>\n",
       "      <td>-0.016158</td>\n",
       "      <td>-0.010938</td>\n",
       "    </tr>\n",
       "    <tr>\n",
       "      <th>Samurai</th>\n",
       "      <td>0.002914</td>\n",
       "      <td>-0.000590</td>\n",
       "      <td>-0.037223</td>\n",
       "      <td>0.000000</td>\n",
       "      <td>-0.035689</td>\n",
       "    </tr>\n",
       "    <tr>\n",
       "      <th>Acquire</th>\n",
       "      <td>-0.032521</td>\n",
       "      <td>-0.009481</td>\n",
       "      <td>-0.028111</td>\n",
       "      <td>0.000000</td>\n",
       "      <td>-0.059194</td>\n",
       "    </tr>\n",
       "    <tr>\n",
       "      <th>Cathedral</th>\n",
       "      <td>0.031774</td>\n",
       "      <td>0.000000</td>\n",
       "      <td>-0.003076</td>\n",
       "      <td>0.000000</td>\n",
       "      <td>0.000000</td>\n",
       "    </tr>\n",
       "    <tr>\n",
       "      <th>El Caballero</th>\n",
       "      <td>0.017950</td>\n",
       "      <td>-0.018933</td>\n",
       "      <td>0.000000</td>\n",
       "      <td>0.000000</td>\n",
       "      <td>0.017650</td>\n",
       "    </tr>\n",
       "  </tbody>\n",
       "</table>\n",
       "</div>"
      ],
      "text/plain": [
       "Game          Counter-Strike  Team Fortress Classic  Day of Defeat  \\\n",
       "Game                                                                 \n",
       "Die Macher         -0.021792              -0.012481       0.007628   \n",
       "Samurai             0.002914              -0.000590      -0.037223   \n",
       "Acquire            -0.032521              -0.009481      -0.028111   \n",
       "Cathedral           0.031774               0.000000      -0.003076   \n",
       "El Caballero        0.017950              -0.018933       0.000000   \n",
       "\n",
       "Game          Deathmatch Classic  Half-Life: Opposing Force  \n",
       "Game                                                         \n",
       "Die Macher             -0.016158                  -0.010938  \n",
       "Samurai                 0.000000                  -0.035689  \n",
       "Acquire                 0.000000                  -0.059194  \n",
       "Cathedral               0.000000                   0.000000  \n",
       "El Caballero            0.000000                   0.017650  "
      ]
     },
     "execution_count": 153,
     "metadata": {},
     "output_type": "execute_result"
    }
   ],
   "source": [
    "# Adding names to bgg and steam item sim matrix\n",
    "bgg_names_key = dict(zip(bg.Id, bg.Name))\n",
    "ism_bgg_steam_df = pd.DataFrame(ism_bgg_steam, columns=ui_steam.index, index=ui_bgg.index,)\n",
    "ism_bgg_steam_df.rename(columns = steam_names_key, index=bgg_names_key, inplace=True)\n",
    "ism_bgg_steam_df.iloc[:5,:5]"
   ]
  },
  {
   "cell_type": "code",
   "execution_count": 154,
   "id": "9b06c05d",
   "metadata": {},
   "outputs": [],
   "source": [
    "# Round to 2 digits and save as pickles\n",
    "ism_bgg_steam_df.round(2).to_pickle(\"ism_bgg.pkl\", compression=\"bz2\")\n",
    "ism_bgg_steam_df.round(2).to_pickle(\"ism_bgg.pkl\", compression=\"bz2\")"
   ]
  },
  {
   "cell_type": "code",
   "execution_count": 155,
   "id": "65adc029",
   "metadata": {},
   "outputs": [
    {
     "data": {
      "text/html": [
       "<div>\n",
       "<style scoped>\n",
       "    .dataframe tbody tr th:only-of-type {\n",
       "        vertical-align: middle;\n",
       "    }\n",
       "\n",
       "    .dataframe tbody tr th {\n",
       "        vertical-align: top;\n",
       "    }\n",
       "\n",
       "    .dataframe thead th {\n",
       "        text-align: right;\n",
       "    }\n",
       "</style>\n",
       "<table border=\"1\" class=\"dataframe\">\n",
       "  <thead>\n",
       "    <tr style=\"text-align: right;\">\n",
       "      <th>Game</th>\n",
       "      <th>Counter-Strike</th>\n",
       "      <th>Team Fortress Classic</th>\n",
       "      <th>Day of Defeat</th>\n",
       "      <th>Deathmatch Classic</th>\n",
       "      <th>Half-Life: Opposing Force</th>\n",
       "    </tr>\n",
       "    <tr>\n",
       "      <th>Game</th>\n",
       "      <th></th>\n",
       "      <th></th>\n",
       "      <th></th>\n",
       "      <th></th>\n",
       "      <th></th>\n",
       "    </tr>\n",
       "  </thead>\n",
       "  <tbody>\n",
       "    <tr>\n",
       "      <th>Counter-Strike</th>\n",
       "      <td>1.00</td>\n",
       "      <td>0.03</td>\n",
       "      <td>0.04</td>\n",
       "      <td>0.09</td>\n",
       "      <td>-0.08</td>\n",
       "    </tr>\n",
       "    <tr>\n",
       "      <th>Team Fortress Classic</th>\n",
       "      <td>0.03</td>\n",
       "      <td>1.00</td>\n",
       "      <td>0.21</td>\n",
       "      <td>0.16</td>\n",
       "      <td>0.24</td>\n",
       "    </tr>\n",
       "    <tr>\n",
       "      <th>Day of Defeat</th>\n",
       "      <td>0.04</td>\n",
       "      <td>0.21</td>\n",
       "      <td>1.00</td>\n",
       "      <td>0.35</td>\n",
       "      <td>-0.02</td>\n",
       "    </tr>\n",
       "    <tr>\n",
       "      <th>Deathmatch Classic</th>\n",
       "      <td>0.09</td>\n",
       "      <td>0.16</td>\n",
       "      <td>0.35</td>\n",
       "      <td>1.00</td>\n",
       "      <td>-0.00</td>\n",
       "    </tr>\n",
       "    <tr>\n",
       "      <th>Half-Life: Opposing Force</th>\n",
       "      <td>-0.08</td>\n",
       "      <td>0.24</td>\n",
       "      <td>-0.02</td>\n",
       "      <td>-0.00</td>\n",
       "      <td>1.00</td>\n",
       "    </tr>\n",
       "  </tbody>\n",
       "</table>\n",
       "</div>"
      ],
      "text/plain": [
       "Game                       Counter-Strike  Team Fortress Classic  \\\n",
       "Game                                                               \n",
       "Counter-Strike                       1.00                   0.03   \n",
       "Team Fortress Classic                0.03                   1.00   \n",
       "Day of Defeat                        0.04                   0.21   \n",
       "Deathmatch Classic                   0.09                   0.16   \n",
       "Half-Life: Opposing Force           -0.08                   0.24   \n",
       "\n",
       "Game                       Day of Defeat  Deathmatch Classic  \\\n",
       "Game                                                           \n",
       "Counter-Strike                      0.04                0.09   \n",
       "Team Fortress Classic               0.21                0.16   \n",
       "Day of Defeat                       1.00                0.35   \n",
       "Deathmatch Classic                  0.35                1.00   \n",
       "Half-Life: Opposing Force          -0.02               -0.00   \n",
       "\n",
       "Game                       Half-Life: Opposing Force  \n",
       "Game                                                  \n",
       "Counter-Strike                                 -0.08  \n",
       "Team Fortress Classic                           0.24  \n",
       "Day of Defeat                                  -0.02  \n",
       "Deathmatch Classic                             -0.00  \n",
       "Half-Life: Opposing Force                       1.00  "
      ]
     },
     "execution_count": 155,
     "metadata": {},
     "output_type": "execute_result"
    }
   ],
   "source": [
    "# To read it\n",
    "pd.read_pickle('ism_steam.pkl', compression=\"bz2\").iloc[:5,:5]"
   ]
  },
  {
   "cell_type": "markdown",
   "id": "83bfa08e",
   "metadata": {},
   "source": [
    "### Datasets for web app"
   ]
  },
  {
   "cell_type": "code",
   "execution_count": 156,
   "id": "348d945c",
   "metadata": {},
   "outputs": [
    {
     "data": {
      "text/html": [
       "<div>\n",
       "<style scoped>\n",
       "    .dataframe tbody tr th:only-of-type {\n",
       "        vertical-align: middle;\n",
       "    }\n",
       "\n",
       "    .dataframe tbody tr th {\n",
       "        vertical-align: top;\n",
       "    }\n",
       "\n",
       "    .dataframe thead th {\n",
       "        text-align: right;\n",
       "    }\n",
       "</style>\n",
       "<table border=\"1\" class=\"dataframe\">\n",
       "  <thead>\n",
       "    <tr style=\"text-align: right;\">\n",
       "      <th></th>\n",
       "      <th>Id</th>\n",
       "      <th>Name</th>\n",
       "      <th>Release</th>\n",
       "      <th>Rating</th>\n",
       "      <th>Ranking</th>\n",
       "      <th>Subtype_Ranking</th>\n",
       "      <th>Subtype_Name</th>\n",
       "      <th>Playing_Time</th>\n",
       "      <th>Min_Age</th>\n",
       "      <th>Min_Players</th>\n",
       "      <th>Max_Players</th>\n",
       "      <th>Thumbnail</th>\n",
       "      <th>Tags</th>\n",
       "      <th>URL</th>\n",
       "    </tr>\n",
       "  </thead>\n",
       "  <tbody>\n",
       "    <tr>\n",
       "      <th>0</th>\n",
       "      <td>224037</td>\n",
       "      <td>Codenames: Duet</td>\n",
       "      <td>2017.0</td>\n",
       "      <td>7.33735</td>\n",
       "      <td>171</td>\n",
       "      <td>26</td>\n",
       "      <td>Family Game Rank</td>\n",
       "      <td>30.0</td>\n",
       "      <td>11.0</td>\n",
       "      <td>2.0</td>\n",
       "      <td>2.0</td>\n",
       "      <td>https://cf.geekdo-images.com/0d1EaMVmAiIBROI2Q...</td>\n",
       "      <td>Card Game, Deduction, Spies/Secret Agents, Wor...</td>\n",
       "      <td>https://boardgamegeek.com/boardgame/224037</td>\n",
       "    </tr>\n",
       "    <tr>\n",
       "      <th>1</th>\n",
       "      <td>104162</td>\n",
       "      <td>Descent: Journeys in the Dark (Second Edition)</td>\n",
       "      <td>2012.0</td>\n",
       "      <td>7.42515</td>\n",
       "      <td>128</td>\n",
       "      <td>40</td>\n",
       "      <td>Thematic Rank</td>\n",
       "      <td>120.0</td>\n",
       "      <td>14.0</td>\n",
       "      <td>1.0</td>\n",
       "      <td>5.0</td>\n",
       "      <td>https://cf.geekdo-images.com/ZN2rpiJ19lg5DZk_i...</td>\n",
       "      <td>Adventure, Exploration, Fantasy, Fighting, Min...</td>\n",
       "      <td>https://boardgamegeek.com/boardgame/104162</td>\n",
       "    </tr>\n",
       "  </tbody>\n",
       "</table>\n",
       "</div>"
      ],
      "text/plain": [
       "       Id                                            Name  Release   Rating  \\\n",
       "0  224037                                 Codenames: Duet   2017.0  7.33735   \n",
       "1  104162  Descent: Journeys in the Dark (Second Edition)   2012.0  7.42515   \n",
       "\n",
       "  Ranking Subtype_Ranking      Subtype_Name  Playing_Time  Min_Age  \\\n",
       "0     171              26  Family Game Rank          30.0     11.0   \n",
       "1     128              40     Thematic Rank         120.0     14.0   \n",
       "\n",
       "   Min_Players  Max_Players  \\\n",
       "0          2.0          2.0   \n",
       "1          1.0          5.0   \n",
       "\n",
       "                                           Thumbnail  \\\n",
       "0  https://cf.geekdo-images.com/0d1EaMVmAiIBROI2Q...   \n",
       "1  https://cf.geekdo-images.com/ZN2rpiJ19lg5DZk_i...   \n",
       "\n",
       "                                                Tags  \\\n",
       "0  Card Game, Deduction, Spies/Secret Agents, Wor...   \n",
       "1  Adventure, Exploration, Fantasy, Fighting, Min...   \n",
       "\n",
       "                                          URL  \n",
       "0  https://boardgamegeek.com/boardgame/224037  \n",
       "1  https://boardgamegeek.com/boardgame/104162  "
      ]
     },
     "execution_count": 156,
     "metadata": {},
     "output_type": "execute_result"
    }
   ],
   "source": [
    "bg_info_web_app = bg.copy()[bg.Id.isin(ui_bgg.index)]\n",
    "bg_info_web_app.head(2)"
   ]
  },
  {
   "cell_type": "code",
   "execution_count": 157,
   "id": "8cdd7674",
   "metadata": {},
   "outputs": [
    {
     "data": {
      "text/html": [
       "<div>\n",
       "<style scoped>\n",
       "    .dataframe tbody tr th:only-of-type {\n",
       "        vertical-align: middle;\n",
       "    }\n",
       "\n",
       "    .dataframe tbody tr th {\n",
       "        vertical-align: top;\n",
       "    }\n",
       "\n",
       "    .dataframe thead th {\n",
       "        text-align: right;\n",
       "    }\n",
       "</style>\n",
       "<table border=\"1\" class=\"dataframe\">\n",
       "  <thead>\n",
       "    <tr style=\"text-align: right;\">\n",
       "      <th></th>\n",
       "      <th>Id</th>\n",
       "      <th>Name</th>\n",
       "      <th>Release</th>\n",
       "      <th>Rating</th>\n",
       "      <th>Rating_Recent</th>\n",
       "      <th>Thumbnail</th>\n",
       "      <th>URL</th>\n",
       "      <th>Tags</th>\n",
       "    </tr>\n",
       "  </thead>\n",
       "  <tbody>\n",
       "    <tr>\n",
       "      <th>0</th>\n",
       "      <td>533780</td>\n",
       "      <td>Zombie Defense</td>\n",
       "      <td>Sep 30, 2016</td>\n",
       "      <td>- 82% of the 1,861 user reviews for this game ...</td>\n",
       "      <td>- 91% of the 12 user reviews in the last 30 da...</td>\n",
       "      <td>https://cdn.akamai.steamstatic.com/steam/apps/...</td>\n",
       "      <td>https://store.steampowered.com/app/533780/</td>\n",
       "      <td>Free to Play, Zombies, Tower Defense, Strategy...</td>\n",
       "    </tr>\n",
       "    <tr>\n",
       "      <th>1</th>\n",
       "      <td>706220</td>\n",
       "      <td>Black Desert (706220)</td>\n",
       "      <td>May 24, 2017</td>\n",
       "      <td>- 76% of the 35,736 user reviews for this game...</td>\n",
       "      <td>- 75% of the 566 user reviews in the last 30 d...</td>\n",
       "      <td>https://cdn.akamai.steamstatic.com/steam/apps/...</td>\n",
       "      <td>https://store.steampowered.com/app/706220/</td>\n",
       "      <td>MMORPG, Massively Multiplayer, RPG, Open World...</td>\n",
       "    </tr>\n",
       "  </tbody>\n",
       "</table>\n",
       "</div>"
      ],
      "text/plain": [
       "       Id                   Name       Release  \\\n",
       "0  533780         Zombie Defense  Sep 30, 2016   \n",
       "1  706220  Black Desert (706220)  May 24, 2017   \n",
       "\n",
       "                                              Rating  \\\n",
       "0  - 82% of the 1,861 user reviews for this game ...   \n",
       "1  - 76% of the 35,736 user reviews for this game...   \n",
       "\n",
       "                                       Rating_Recent  \\\n",
       "0  - 91% of the 12 user reviews in the last 30 da...   \n",
       "1  - 75% of the 566 user reviews in the last 30 d...   \n",
       "\n",
       "                                           Thumbnail  \\\n",
       "0  https://cdn.akamai.steamstatic.com/steam/apps/...   \n",
       "1  https://cdn.akamai.steamstatic.com/steam/apps/...   \n",
       "\n",
       "                                          URL  \\\n",
       "0  https://store.steampowered.com/app/533780/   \n",
       "1  https://store.steampowered.com/app/706220/   \n",
       "\n",
       "                                                Tags  \n",
       "0  Free to Play, Zombies, Tower Defense, Strategy...  \n",
       "1  MMORPG, Massively Multiplayer, RPG, Open World...  "
      ]
     },
     "execution_count": 157,
     "metadata": {},
     "output_type": "execute_result"
    }
   ],
   "source": [
    "vg_info_web_app = vg.copy()[vg.Id.isin(ui_steam.index)]\n",
    "vg_info_web_app.head(2)"
   ]
  },
  {
   "cell_type": "code",
   "execution_count": 158,
   "id": "c975d96a",
   "metadata": {},
   "outputs": [],
   "source": [
    "# Cleaning up columns\n",
    "bg_info_web_app['Release'] = bg_info_web_app.Release.astype(int)\n",
    "bg_info_web_app['Rating'] = bg_info_web_app.Rating.round(1)\n",
    "bg_info_web_app['Ranking'] = bg_info_web_app.Ranking.apply(lambda x: x if x == 'Not Ranked' else \"#\"+x)\n",
    "\n",
    "vg_info_web_app['Release'] = vg_info_web_app.Release.apply(lambda x: x[-4:])\n",
    "\n",
    "# Reformat reviews to \"%55 (155 reviews)\"\n",
    "reviews = vg_info_web_app['Rating'].str.extract(\"- (.+%) of the (.+) user reviews for this game\")\n",
    "new_reviews = reviews[0] + ' (' + reviews [1] + ' reviews)'\n",
    "vg_info_web_app['Rating'] = [html.escape(str(review)) for review in new_reviews]"
   ]
  },
  {
   "cell_type": "code",
   "execution_count": 159,
   "id": "6eb3b8f9",
   "metadata": {},
   "outputs": [],
   "source": [
    "# Add title column with links and thumbnails, and html-safe game names\n",
    "def get_title_links(df):\n",
    "    title_link='<a href=\"{url}\">{title}</a><br><img src=\"{thumbnail}\" alt=\"{title}\">'\n",
    "    title_links = df.apply(lambda x: title_link.format(url=x.URL, \n",
    "                                                           title=html.escape(x.Name), \n",
    "                                                           thumbnail=x.Thumbnail), axis=1)\n",
    "    return title_links\n",
    "\n",
    "bg_info_web_app['Title'] = get_title_links(bg_info_web_app)\n",
    "vg_info_web_app['Title'] = get_title_links(vg_info_web_app)"
   ]
  },
  {
   "cell_type": "code",
   "execution_count": 160,
   "id": "b416ced7",
   "metadata": {},
   "outputs": [],
   "source": [
    "# Make sure tags are html-safe\n",
    "bg_info_web_app['Tags'] = bg_info_web_app.Tags.astype(str).apply(html.escape)\n",
    "vg_info_web_app['Tags'] = vg_info_web_app.Tags.astype(str).apply(html.escape)"
   ]
  },
  {
   "cell_type": "code",
   "execution_count": 161,
   "id": "55e06501",
   "metadata": {},
   "outputs": [],
   "source": [
    "#Reduce number of tags\n",
    "def trim_tags(string, size=10):\n",
    "    tags = string.split(',')\n",
    "    tags = ','.join(tags[:size])\n",
    "    return tags"
   ]
  },
  {
   "cell_type": "code",
   "execution_count": 162,
   "id": "97b97d13",
   "metadata": {},
   "outputs": [
    {
     "data": {
      "text/plain": [
       "0     Card Game, Deduction, Spies/Secret Agents, Wor...\n",
       "1     Adventure, Exploration, Fantasy, Fighting, Min...\n",
       "2     Adventure, Exploration, Fantasy, Fighting, Min...\n",
       "3         Animals, Card Game, Comic Book / Strip, Humor\n",
       "4                          Card Game, Fantasy, Fighting\n",
       "5                                     Card Game, Horror\n",
       "6                                    Card Game, Pirates\n",
       "8                                      Economic, Trains\n",
       "9                                      Economic, Trains\n",
       "10                                            Political\n",
       "Name: Tags, dtype: object"
      ]
     },
     "execution_count": 162,
     "metadata": {},
     "output_type": "execute_result"
    }
   ],
   "source": [
    "size=6\n",
    "vg_info_web_app['Tags'] = vg_info_web_app.Tags.apply(lambda x: trim_tags(x, size=size))\n",
    "bg_info_web_app['Tags'] = bg_info_web_app.Tags.apply(lambda x: trim_tags(x, size=size))\n",
    "bg_info_web_app.Tags.head(10)"
   ]
  },
  {
   "cell_type": "code",
   "execution_count": 163,
   "id": "5d1d3634",
   "metadata": {},
   "outputs": [],
   "source": [
    "# Add average rating for boardgames (needed for recommender)\n",
    "bg_averages = bgg.groupby('Game').mean()\n",
    "bg_averages.columns = ['Average Rating','Average Rating Z']\n",
    "bg_info_web_app = bg_info_web_app.merge(bg_averages, right_index=True, left_on = \"Id\")"
   ]
  },
  {
   "cell_type": "code",
   "execution_count": 164,
   "id": "9795c011",
   "metadata": {},
   "outputs": [
    {
     "data": {
      "text/html": [
       "<div>\n",
       "<style scoped>\n",
       "    .dataframe tbody tr th:only-of-type {\n",
       "        vertical-align: middle;\n",
       "    }\n",
       "\n",
       "    .dataframe tbody tr th {\n",
       "        vertical-align: top;\n",
       "    }\n",
       "\n",
       "    .dataframe thead th {\n",
       "        text-align: right;\n",
       "    }\n",
       "</style>\n",
       "<table border=\"1\" class=\"dataframe\">\n",
       "  <thead>\n",
       "    <tr style=\"text-align: right;\">\n",
       "      <th></th>\n",
       "      <th>Id</th>\n",
       "      <th>Name</th>\n",
       "      <th>Title</th>\n",
       "      <th>Release</th>\n",
       "      <th>BGG Ranking</th>\n",
       "      <th>BGG Rating</th>\n",
       "      <th>Average Rating</th>\n",
       "      <th>Average Rating Z</th>\n",
       "      <th>Tags</th>\n",
       "    </tr>\n",
       "  </thead>\n",
       "  <tbody>\n",
       "    <tr>\n",
       "      <th>0</th>\n",
       "      <td>224037</td>\n",
       "      <td>Codenames: Duet</td>\n",
       "      <td>&lt;a href=\"https://boardgamegeek.com/boardgame/2...</td>\n",
       "      <td>2017</td>\n",
       "      <td>#171</td>\n",
       "      <td>7.3</td>\n",
       "      <td>7.532456</td>\n",
       "      <td>0.413577</td>\n",
       "      <td>Card Game, Deduction, Spies/Secret Agents, Wor...</td>\n",
       "    </tr>\n",
       "    <tr>\n",
       "      <th>1</th>\n",
       "      <td>104162</td>\n",
       "      <td>Descent: Journeys in the Dark (Second Edition)</td>\n",
       "      <td>&lt;a href=\"https://boardgamegeek.com/boardgame/1...</td>\n",
       "      <td>2012</td>\n",
       "      <td>#128</td>\n",
       "      <td>7.4</td>\n",
       "      <td>7.466241</td>\n",
       "      <td>0.240996</td>\n",
       "      <td>Adventure, Exploration, Fantasy, Fighting, Min...</td>\n",
       "    </tr>\n",
       "    <tr>\n",
       "      <th>2</th>\n",
       "      <td>91872</td>\n",
       "      <td>Dungeons &amp; Dragons: The Legend of Drizzt Board...</td>\n",
       "      <td>&lt;a href=\"https://boardgamegeek.com/boardgame/9...</td>\n",
       "      <td>2011</td>\n",
       "      <td>#674</td>\n",
       "      <td>6.8</td>\n",
       "      <td>6.903509</td>\n",
       "      <td>-0.134891</td>\n",
       "      <td>Adventure, Exploration, Fantasy, Fighting, Min...</td>\n",
       "    </tr>\n",
       "  </tbody>\n",
       "</table>\n",
       "</div>"
      ],
      "text/plain": [
       "       Id                                               Name  \\\n",
       "0  224037                                    Codenames: Duet   \n",
       "1  104162     Descent: Journeys in the Dark (Second Edition)   \n",
       "2   91872  Dungeons & Dragons: The Legend of Drizzt Board...   \n",
       "\n",
       "                                               Title  Release BGG Ranking  \\\n",
       "0  <a href=\"https://boardgamegeek.com/boardgame/2...     2017        #171   \n",
       "1  <a href=\"https://boardgamegeek.com/boardgame/1...     2012        #128   \n",
       "2  <a href=\"https://boardgamegeek.com/boardgame/9...     2011        #674   \n",
       "\n",
       "   BGG Rating  Average Rating  Average Rating Z  \\\n",
       "0         7.3        7.532456          0.413577   \n",
       "1         7.4        7.466241          0.240996   \n",
       "2         6.8        6.903509         -0.134891   \n",
       "\n",
       "                                                Tags  \n",
       "0  Card Game, Deduction, Spies/Secret Agents, Wor...  \n",
       "1  Adventure, Exploration, Fantasy, Fighting, Min...  \n",
       "2  Adventure, Exploration, Fantasy, Fighting, Min...  "
      ]
     },
     "execution_count": 164,
     "metadata": {},
     "output_type": "execute_result"
    }
   ],
   "source": [
    "bg_info_web_app = bg_info_web_app[['Id',\n",
    "                                   'Name',\n",
    "                                   'Title',\n",
    "                                   'Release',\n",
    "                                   'Ranking',\n",
    "                                   'Rating',\n",
    "                                   'Average Rating',\n",
    "                                   'Average Rating Z',\n",
    "                                   'Tags']]\n",
    "bg_info_web_app.rename(columns={'Rating':'BGG Rating',\n",
    "                                'Ranking':'BGG Ranking'}, inplace=True)\n",
    "bg_info_web_app.head(3)"
   ]
  },
  {
   "cell_type": "code",
   "execution_count": 165,
   "id": "76e39f1c",
   "metadata": {},
   "outputs": [
    {
     "data": {
      "text/html": [
       "<div>\n",
       "<style scoped>\n",
       "    .dataframe tbody tr th:only-of-type {\n",
       "        vertical-align: middle;\n",
       "    }\n",
       "\n",
       "    .dataframe tbody tr th {\n",
       "        vertical-align: top;\n",
       "    }\n",
       "\n",
       "    .dataframe thead th {\n",
       "        text-align: right;\n",
       "    }\n",
       "</style>\n",
       "<table border=\"1\" class=\"dataframe\">\n",
       "  <thead>\n",
       "    <tr style=\"text-align: right;\">\n",
       "      <th></th>\n",
       "      <th>Id</th>\n",
       "      <th>Name</th>\n",
       "      <th>Title</th>\n",
       "      <th>Release</th>\n",
       "      <th>Steam Rating</th>\n",
       "      <th>Tags</th>\n",
       "    </tr>\n",
       "  </thead>\n",
       "  <tbody>\n",
       "    <tr>\n",
       "      <th>0</th>\n",
       "      <td>533780</td>\n",
       "      <td>Zombie Defense</td>\n",
       "      <td>&lt;a href=\"https://store.steampowered.com/app/53...</td>\n",
       "      <td>2016</td>\n",
       "      <td>82% (1,861 reviews)</td>\n",
       "      <td>Free to Play, Zombies, Tower Defense, Strategy...</td>\n",
       "    </tr>\n",
       "    <tr>\n",
       "      <th>1</th>\n",
       "      <td>706220</td>\n",
       "      <td>Black Desert (706220)</td>\n",
       "      <td>&lt;a href=\"https://store.steampowered.com/app/70...</td>\n",
       "      <td>2017</td>\n",
       "      <td>76% (35,736 reviews)</td>\n",
       "      <td>MMORPG, Massively Multiplayer, RPG, Open World...</td>\n",
       "    </tr>\n",
       "    <tr>\n",
       "      <th>2</th>\n",
       "      <td>346330</td>\n",
       "      <td>BrainBread 2</td>\n",
       "      <td>&lt;a href=\"https://store.steampowered.com/app/34...</td>\n",
       "      <td>2016</td>\n",
       "      <td>71% (4,072 reviews)</td>\n",
       "      <td>Free to Play, Zombies, Multiplayer, FPS, Survi...</td>\n",
       "    </tr>\n",
       "  </tbody>\n",
       "</table>\n",
       "</div>"
      ],
      "text/plain": [
       "       Id                   Name  \\\n",
       "0  533780         Zombie Defense   \n",
       "1  706220  Black Desert (706220)   \n",
       "2  346330           BrainBread 2   \n",
       "\n",
       "                                               Title Release  \\\n",
       "0  <a href=\"https://store.steampowered.com/app/53...    2016   \n",
       "1  <a href=\"https://store.steampowered.com/app/70...    2017   \n",
       "2  <a href=\"https://store.steampowered.com/app/34...    2016   \n",
       "\n",
       "           Steam Rating                                               Tags  \n",
       "0   82% (1,861 reviews)  Free to Play, Zombies, Tower Defense, Strategy...  \n",
       "1  76% (35,736 reviews)  MMORPG, Massively Multiplayer, RPG, Open World...  \n",
       "2   71% (4,072 reviews)  Free to Play, Zombies, Multiplayer, FPS, Survi...  "
      ]
     },
     "execution_count": 165,
     "metadata": {},
     "output_type": "execute_result"
    }
   ],
   "source": [
    "vg_info_web_app = vg_info_web_app[['Id','Name','Title','Release','Rating','Tags']]\n",
    "vg_info_web_app.rename(columns={'Rating':'Steam Rating'}, inplace=True)\n",
    "vg_info_web_app.head(3)"
   ]
  },
  {
   "cell_type": "code",
   "execution_count": 166,
   "id": "5c46599f",
   "metadata": {},
   "outputs": [],
   "source": [
    "vg_info_web_app.to_csv(\"vg_info_for_app.csv\", index=False)\n",
    "bg_info_web_app.to_csv(\"bg_info_for_app.csv\", index=False)"
   ]
  },
  {
   "cell_type": "markdown",
   "id": "ee79f612",
   "metadata": {},
   "source": [
    "### Testing app function pipeline"
   ]
  },
  {
   "cell_type": "code",
   "execution_count": 167,
   "id": "73f5d760",
   "metadata": {},
   "outputs": [],
   "source": [
    "# Function to find the n most similar games in a sim matrix df\n",
    "# Looks up column names\n",
    "def find_similar_games(game_name, item_sim_matrix, n=5):\n",
    "    try:\n",
    "        out = item_sim_matrix[game_name].nlargest(n+1)\n",
    "        out = out[1:]\n",
    "        out = pd.DataFrame(out)\n",
    "        out = out.reset_index()\n",
    "        out.columns = ['Game','Similarity']\n",
    "        return out\n",
    "    except:\n",
    "        return ['Game not in database']"
   ]
  },
  {
   "cell_type": "code",
   "execution_count": 168,
   "id": "4a7b7526",
   "metadata": {},
   "outputs": [
    {
     "data": {
      "text/plain": [
       "['Game not in database']"
      ]
     },
     "execution_count": 168,
     "metadata": {},
     "output_type": "execute_result"
    }
   ],
   "source": [
    "find_similar_games('test',ism_steam_steam_df, 7)"
   ]
  },
  {
   "cell_type": "code",
   "execution_count": 169,
   "id": "6c244f0b",
   "metadata": {},
   "outputs": [
    {
     "data": {
      "text/html": [
       "<div>\n",
       "<style scoped>\n",
       "    .dataframe tbody tr th:only-of-type {\n",
       "        vertical-align: middle;\n",
       "    }\n",
       "\n",
       "    .dataframe tbody tr th {\n",
       "        vertical-align: top;\n",
       "    }\n",
       "\n",
       "    .dataframe thead th {\n",
       "        text-align: right;\n",
       "    }\n",
       "</style>\n",
       "<table border=\"1\" class=\"dataframe\">\n",
       "  <thead>\n",
       "    <tr style=\"text-align: right;\">\n",
       "      <th></th>\n",
       "      <th>Game</th>\n",
       "      <th>Similarity</th>\n",
       "    </tr>\n",
       "  </thead>\n",
       "  <tbody>\n",
       "    <tr>\n",
       "      <th>0</th>\n",
       "      <td>Terraria</td>\n",
       "      <td>0.511161</td>\n",
       "    </tr>\n",
       "    <tr>\n",
       "      <th>1</th>\n",
       "      <td>Borderlands 2</td>\n",
       "      <td>0.433094</td>\n",
       "    </tr>\n",
       "    <tr>\n",
       "      <th>2</th>\n",
       "      <td>Torchlight II</td>\n",
       "      <td>0.377996</td>\n",
       "    </tr>\n",
       "    <tr>\n",
       "      <th>3</th>\n",
       "      <td>Stardew Valley</td>\n",
       "      <td>0.374645</td>\n",
       "    </tr>\n",
       "    <tr>\n",
       "      <th>4</th>\n",
       "      <td>The Elder Scrolls V: Skyrim</td>\n",
       "      <td>0.374267</td>\n",
       "    </tr>\n",
       "    <tr>\n",
       "      <th>5</th>\n",
       "      <td>Sid Meier's Civilization® V</td>\n",
       "      <td>0.355788</td>\n",
       "    </tr>\n",
       "    <tr>\n",
       "      <th>6</th>\n",
       "      <td>Tabletop Simulator</td>\n",
       "      <td>0.354503</td>\n",
       "    </tr>\n",
       "  </tbody>\n",
       "</table>\n",
       "</div>"
      ],
      "text/plain": [
       "                          Game  Similarity\n",
       "0                     Terraria    0.511161\n",
       "1                Borderlands 2    0.433094\n",
       "2                Torchlight II    0.377996\n",
       "3               Stardew Valley    0.374645\n",
       "4  The Elder Scrolls V: Skyrim    0.374267\n",
       "5  Sid Meier's Civilization® V    0.355788\n",
       "6           Tabletop Simulator    0.354503"
      ]
     },
     "execution_count": 169,
     "metadata": {},
     "output_type": "execute_result"
    }
   ],
   "source": [
    "find_similar_games('Starbound',ism_steam_steam_df, 7)"
   ]
  },
  {
   "cell_type": "code",
   "execution_count": 170,
   "id": "1df079b9",
   "metadata": {},
   "outputs": [
    {
     "data": {
      "text/plain": [
       "['Game not in database']"
      ]
     },
     "execution_count": 170,
     "metadata": {},
     "output_type": "execute_result"
    }
   ],
   "source": [
    "find_similar_games('test',ism_steam_steam_df, 7)"
   ]
  },
  {
   "cell_type": "code",
   "execution_count": 171,
   "id": "bae5d527",
   "metadata": {},
   "outputs": [
    {
     "data": {
      "text/html": [
       "<div>\n",
       "<style scoped>\n",
       "    .dataframe tbody tr th:only-of-type {\n",
       "        vertical-align: middle;\n",
       "    }\n",
       "\n",
       "    .dataframe tbody tr th {\n",
       "        vertical-align: top;\n",
       "    }\n",
       "\n",
       "    .dataframe thead th {\n",
       "        text-align: right;\n",
       "    }\n",
       "</style>\n",
       "<table border=\"1\" class=\"dataframe\">\n",
       "  <thead>\n",
       "    <tr style=\"text-align: right;\">\n",
       "      <th></th>\n",
       "      <th>Game</th>\n",
       "      <th>Similarity</th>\n",
       "    </tr>\n",
       "  </thead>\n",
       "  <tbody>\n",
       "    <tr>\n",
       "      <th>0</th>\n",
       "      <td>Terraforming Mars</td>\n",
       "      <td>0.184222</td>\n",
       "    </tr>\n",
       "    <tr>\n",
       "      <th>1</th>\n",
       "      <td>Gloomhaven</td>\n",
       "      <td>0.177811</td>\n",
       "    </tr>\n",
       "    <tr>\n",
       "      <th>2</th>\n",
       "      <td>Pandemic Legacy: Season 1</td>\n",
       "      <td>0.167160</td>\n",
       "    </tr>\n",
       "    <tr>\n",
       "      <th>3</th>\n",
       "      <td>Through the Ages: A New Story of Civilization</td>\n",
       "      <td>0.164132</td>\n",
       "    </tr>\n",
       "    <tr>\n",
       "      <th>4</th>\n",
       "      <td>Mansions of Madness: Second Edition</td>\n",
       "      <td>0.163396</td>\n",
       "    </tr>\n",
       "    <tr>\n",
       "      <th>5</th>\n",
       "      <td>Blood Rage</td>\n",
       "      <td>0.163032</td>\n",
       "    </tr>\n",
       "    <tr>\n",
       "      <th>6</th>\n",
       "      <td>Roll for the Galaxy</td>\n",
       "      <td>0.154233</td>\n",
       "    </tr>\n",
       "  </tbody>\n",
       "</table>\n",
       "</div>"
      ],
      "text/plain": [
       "                                            Game  Similarity\n",
       "0                              Terraforming Mars    0.184222\n",
       "1                                     Gloomhaven    0.177811\n",
       "2                      Pandemic Legacy: Season 1    0.167160\n",
       "3  Through the Ages: A New Story of Civilization    0.164132\n",
       "4            Mansions of Madness: Second Edition    0.163396\n",
       "5                                     Blood Rage    0.163032\n",
       "6                            Roll for the Galaxy    0.154233"
      ]
     },
     "execution_count": 171,
     "metadata": {},
     "output_type": "execute_result"
    }
   ],
   "source": [
    "find_similar_games('Starbound',ism_bgg_steam_df,7)"
   ]
  },
  {
   "cell_type": "code",
   "execution_count": 172,
   "id": "995c6fcc",
   "metadata": {},
   "outputs": [],
   "source": [
    "# Turn df into nice html\n",
    "def render_table(df):\n",
    "    return df.to_html(index=False, justify='center', escape=False)"
   ]
  },
  {
   "cell_type": "code",
   "execution_count": 173,
   "id": "e923b907",
   "metadata": {},
   "outputs": [],
   "source": [
    "def load_bg_data_for_web_app():\n",
    "    return pd.read_csv(\"bg_info_for_app.csv\")\n",
    "\n",
    "def load_vg_data_for_web_app():\n",
    "    return pd.read_csv(\"vg_info_for_app.csv\")"
   ]
  },
  {
   "cell_type": "code",
   "execution_count": 174,
   "id": "bcf8b6dc",
   "metadata": {},
   "outputs": [],
   "source": [
    "# Add columns from datasets\n",
    "\n",
    "def annotate_table(df, left_on='Game', right_on='Name', platform='bgg'):\n",
    "    if platform == 'bgg':\n",
    "        dataset = load_bg_data_for_web_app()\n",
    "    if platform == 'steam':\n",
    "        dataset = load_vg_data_for_web_app()\n",
    "    df = df.merge(dataset, left_on=left_on, right_on=right_on)\n",
    "    return df"
   ]
  },
  {
   "cell_type": "code",
   "execution_count": 175,
   "id": "f276857c",
   "metadata": {},
   "outputs": [],
   "source": [
    "# Sort and hide columns\n",
    "def rearrange_table(df, columns_to_show, order_by, how_many_rows, desc=False):\n",
    "    df.sort_values(by = [order_by], ascending = not desc, inplace=True)\n",
    "    return df[columns_to_show].head(how_many_rows)"
   ]
  },
  {
   "cell_type": "code",
   "execution_count": 176,
   "id": "ff68c416",
   "metadata": {},
   "outputs": [],
   "source": [
    "show_columns = ['Title', 'BGG Ranking', 'BGG Rating']\n",
    "sort_by = 'BGG Rating'\n",
    "desc = True\n",
    "how_many = 2\n",
    "\n",
    "x = find_similar_games('Starbound', ism_bgg_steam_df, 25)\n",
    "x = annotate_table(x, platform='bgg')\n",
    "x = rearrange_table(x, show_columns, sort_by, how_many, desc)\n",
    "x = render_table(x)"
   ]
  },
  {
   "cell_type": "code",
   "execution_count": 177,
   "id": "508fff25",
   "metadata": {},
   "outputs": [
    {
     "data": {
      "text/html": [
       "<table border=\"1\" class=\"dataframe\">\n",
       "  <thead>\n",
       "    <tr style=\"text-align: center;\">\n",
       "      <th>Title</th>\n",
       "      <th>BGG Ranking</th>\n",
       "      <th>BGG Rating</th>\n",
       "    </tr>\n",
       "  </thead>\n",
       "  <tbody>\n",
       "    <tr>\n",
       "      <td><a href=\"https://boardgamegeek.com/boardgame/174430\">Gloomhaven</a><br><img src=\"https://cf.geekdo-images.com/sZYp_3BTDGjh2unaZfZmuA__thumb/img/veqFeP4d_3zNhFc3GNBkV95rBEQ=/fit-in/200x150/filters:strip_icc()/pic2437871.jpg\" alt=\"Gloomhaven\"></td>\n",
       "      <td>#1</td>\n",
       "      <td>8.5</td>\n",
       "    </tr>\n",
       "    <tr>\n",
       "      <td><a href=\"https://boardgamegeek.com/boardgame/161936\">Pandemic Legacy: Season 1</a><br><img src=\"https://cf.geekdo-images.com/-Qer2BBPG7qGGDu6KcVDIw__thumb/img/NQQcjS31TO0DE246N9rpt0hd9eo=/fit-in/200x150/filters:strip_icc()/pic2452831.png\" alt=\"Pandemic Legacy: Season 1\"></td>\n",
       "      <td>#2</td>\n",
       "      <td>8.4</td>\n",
       "    </tr>\n",
       "  </tbody>\n",
       "</table>"
      ]
     },
     "metadata": {},
     "output_type": "display_data"
    }
   ],
   "source": [
    "display({'text/html':x}, raw=True)"
   ]
  },
  {
   "cell_type": "code",
   "execution_count": 178,
   "id": "6fc3b372",
   "metadata": {},
   "outputs": [],
   "source": [
    "show_columns = ['Title', 'Release', 'Steam Rating', 'Tags']\n",
    "sort_by = 'Steam Rating'\n",
    "desc = True\n",
    "x = find_similar_games('Starbound', ism_steam_steam_df)\n",
    "x = annotate_table(x, platform='steam')\n",
    "x = rearrange_table(x, show_columns, sort_by, how_many, desc)\n",
    "x = render_table(x)"
   ]
  },
  {
   "cell_type": "code",
   "execution_count": 179,
   "id": "c0499d07",
   "metadata": {},
   "outputs": [
    {
     "data": {
      "text/html": [
       "<table border=\"1\" class=\"dataframe\">\n",
       "  <thead>\n",
       "    <tr style=\"text-align: center;\">\n",
       "      <th>Title</th>\n",
       "      <th>Release</th>\n",
       "      <th>Steam Rating</th>\n",
       "      <th>Tags</th>\n",
       "    </tr>\n",
       "  </thead>\n",
       "  <tbody>\n",
       "    <tr>\n",
       "      <td><a href=\"https://store.steampowered.com/app/105600/\">Terraria</a><br><img src=\"https://cdn.akamai.steamstatic.com/steam/apps/105600/header.jpg\" alt=\"Terraria\"></td>\n",
       "      <td>2011</td>\n",
       "      <td>98% (648,415 reviews)</td>\n",
       "      <td>Open World Survival Craft, Sandbox, Survival, 2D, Multiplayer, Adventure</td>\n",
       "    </tr>\n",
       "    <tr>\n",
       "      <td><a href=\"https://store.steampowered.com/app/413150/\">Stardew Valley</a><br><img src=\"https://cdn.akamai.steamstatic.com/steam/apps/413150/header.jpg\" alt=\"Stardew Valley\"></td>\n",
       "      <td>2016</td>\n",
       "      <td>97% (334,679 reviews)</td>\n",
       "      <td>Farming Sim, Life Sim, RPG, Pixel Graphics, Multiplayer, Agriculture</td>\n",
       "    </tr>\n",
       "  </tbody>\n",
       "</table>"
      ]
     },
     "metadata": {},
     "output_type": "display_data"
    }
   ],
   "source": [
    "display({'text/html':x}, raw=True)"
   ]
  },
  {
   "cell_type": "markdown",
   "id": "b90240f9",
   "metadata": {},
   "source": [
    "### Recommender"
   ]
  },
  {
   "cell_type": "code",
   "execution_count": 180,
   "id": "ae7d362b",
   "metadata": {},
   "outputs": [],
   "source": [
    "import requests as rq\n",
    "import json"
   ]
  },
  {
   "cell_type": "code",
   "execution_count": 181,
   "id": "702099c9",
   "metadata": {},
   "outputs": [],
   "source": [
    "def get_games(steam_id, steam_api_key):\n",
    "    '''\n",
    "    Takes a steam id and api key and returns a list of (game ids, playtime) tuples\n",
    "    '''\n",
    "    req = rq.get('https://api.steampowered.com/IPlayerService/GetOwnedGames/v1/?key={key}&steamid={id}&include_played_free_games=1&include_appinfo=1'\\\n",
    "                 .format(key=my_key, id=steam_id))\n",
    "    if req.status_code == 500:\n",
    "        return(\"500\")\n",
    "    if json.loads(req.text).get('response').get('games') == None:\n",
    "        return(\"No games\")\n",
    "    else:\n",
    "        games_list = json.loads(req.text).get('response').get('games') # List of dictionaries\n",
    "        out =[(game.get('appid'), game.get('playtime_forever')) for game in games_list \\\n",
    "              if game.get('playtime_forever') > 0]\n",
    "        return out\n"
   ]
  },
  {
   "cell_type": "code",
   "execution_count": 182,
   "id": "72f147d1",
   "metadata": {},
   "outputs": [],
   "source": [
    "def normalize_ratings(game_ratings, cutoff=10, z_scores = True):\n",
    "    '''\n",
    "    Takes a list of (game, ratings) tuples, prunes games with playtimes\n",
    "    less than cutoff, log-transforms, and returns list of (game,Z-scores) tuples\n",
    "    \n",
    "    '''    \n",
    "    # Must play for at least n minutes\n",
    "    game_ratings = [(id,rating) for (id,rating) in game_ratings if rating >= cutoff]\n",
    "\n",
    "    # Log transform (playtimes are very left skewed)\n",
    "    games = [id for (id,rating) in game_ratings]\n",
    "    ratings = np.log([rating for (id,rating) in game_ratings])\n",
    "\n",
    "    # Z_score\n",
    "    if z_scores:\n",
    "        mean = np.mean(ratings)\n",
    "        std = np.std(ratings)\n",
    "        ratings = (ratings-mean)/std\n",
    "\n",
    "    return(list(zip(games, ratings)))"
   ]
  },
  {
   "cell_type": "code",
   "execution_count": 183,
   "id": "c2498fae",
   "metadata": {},
   "outputs": [],
   "source": [
    "def recommend_boardgames(steam_id, \n",
    "                         steam_key, \n",
    "                         ism, \n",
    "                         min_neighbors=3, \n",
    "                         neighbor_cutoff=0.15, \n",
    "                         based_on_n=3,\n",
    "                         popular_games=True):\n",
    "   \n",
    "    vgs = get_games(steam_id, steam_key)\n",
    "    vgs = normalize_ratings(vgs)\n",
    "    \n",
    "    # Key to convert between game names and ids\n",
    "    id_name_key = load_vg_data_for_web_app()[['Id','Name']]\n",
    "    id_name_key = dict(zip(id_name_key.Id, id_name_key.Name))\n",
    "    \n",
    "    # Exclude video games not in data set\n",
    "    vgs = [(id_name_key.get(game_id), playtime) \\\n",
    "             for (game_id, playtime) in vgs if game_id in id_name_key.keys()]\n",
    "    \n",
    "    vg_names = [game_name for (game_name, playtime) in vgs] \n",
    "    playtimes = [playtime for (game_name, playtime) in vgs] \n",
    "    \n",
    "    # Item similarity matrix -- df with video games as columns, board games as rows\n",
    "    # Only include video games that user has played\n",
    "    df = ism[vg_names]\n",
    "    \n",
    "    # Find board games with minimum number of neighbors\n",
    "    bg_neighbor_counts = df[df>=neighbor_cutoff].count(axis=1) \n",
    "    bgs_with_neighbors = bg_neighbor_counts[bg_neighbor_counts>=min_neighbors].index.tolist()\n",
    "    \n",
    "      \n",
    "    if len(bgs_with_neighbors)>0:\n",
    "        \n",
    "        # Dictionary with 3 most similar neighbors for every bg with neighbors\n",
    "        based_on_games_you_play = {}\n",
    "        for bg in bgs_with_neighbors:\n",
    "            sim_games = df.loc[bgs_with_neighbors].transpose()[bg].nlargest(based_on_n).index.tolist()\n",
    "            based_on_games_you_play.update({bg:'You play…<br>' + '<br>'.join(sim_games)})\n",
    "        \n",
    "        # Predict scores for bgs with neighbors\n",
    "        user_item_neighbors = df.loc[bgs_with_neighbors].to_numpy()\n",
    "        predictions = user_item_neighbors.dot(playtimes)\n",
    "    \n",
    "        # Z transform so predicted scores are comparable to average bg ratings\n",
    "        # Can't use weighted average because some similarity scores are negative\n",
    "        predictions = (predictions - predictions.mean()) / predictions.std()\n",
    "    \n",
    "        # Dictionary with name+rating for every bg with neighbors\n",
    "        game_ratings = dict(zip(bgs_with_neighbors, predictions))\n",
    "        \n",
    "    else:\n",
    "        game_ratings = {} \n",
    "    \n",
    "    # Dictionary with global average for every bg\n",
    "    bg_averages = load_bg_data_for_web_app()\n",
    "    bg_averages = dict(zip(bg_averages.Name, bg_averages['Average Rating Z'].round(2)))\n",
    "\n",
    "    # Use prediction if there are neighbors, otherwise use average\n",
    "    # Returns predicted score of -100 if a boardgame isn't in the dataset\n",
    "    output = []\n",
    "    if popular_games:\n",
    "        value_when_no_prediction = bg_averages.get(bg)\n",
    "    else:\n",
    "        value_when_no_prediction = -100\n",
    "    for bg in df.index:\n",
    "        output.append(\n",
    "            (bg, \n",
    "             game_ratings.get(bg,value_when_no_prediction),\n",
    "             based_on_games_you_play.get(bg, \"It's a popular game (rank predicted using average rating)\"))\n",
    "        )\n",
    "    \n",
    "    output_df = pd.DataFrame(output, columns=['Game', 'Score', 'Recommended because…']).sort_values('Score', ascending=False)\n",
    "    output_df = output_df[output_df.Score>-100]\n",
    "    output_df['Your Ranking'] = ['#' + str(x) for x in(output_df.reset_index().index + 1)]\n",
    "    \n",
    "    return output_df"
   ]
  },
  {
   "cell_type": "code",
   "execution_count": 184,
   "id": "8e84d82d",
   "metadata": {},
   "outputs": [],
   "source": [
    "# Testing full pipeline for Go Analog\n",
    "my_key = open(\"../key.txt\").read()\n",
    "show_columns = ['Title', 'Your Ranking', 'BGG Ranking', 'BGG Rating',  'Release', 'Tags',  'Recommended because…']\n",
    "how_many = 3 # Maximum number of games to recommend\n",
    "sort_by = 'Score' # Sort by\n",
    "desc = True # Sort descending\n",
    "min_neighbors = 1 # How many similar games you need to predict a value\n",
    "neighbor_cutoff = 0.3 # Minimum similarity score for two games to be considered similar (above .3 doesn't work very well!)\n",
    "based_on_n = 3 # How many games to list in 'recommended because'\n",
    "popular_games = False # Add popular games to ranking that aren't similar to anything you play\n",
    "\n",
    "x = recommend_boardgames('76561198026189780',\n",
    "                         my_key, \n",
    "                         ism_bgg_steam_df, \n",
    "                         min_neighbors=min_neighbors, \n",
    "                         neighbor_cutoff=neighbor_cutoff,\n",
    "                         popular_games=popular_games)\n",
    "x = annotate_table(x)\n",
    "x = rearrange_table(x, show_columns, sort_by, how_many, desc)\n",
    "x = render_table(x)"
   ]
  },
  {
   "cell_type": "code",
   "execution_count": 185,
   "id": "eba67fb1",
   "metadata": {},
   "outputs": [
    {
     "data": {
      "text/html": [
       "<table border=\"1\" class=\"dataframe\">\n",
       "  <thead>\n",
       "    <tr style=\"text-align: center;\">\n",
       "      <th>Title</th>\n",
       "      <th>Your Ranking</th>\n",
       "      <th>BGG Ranking</th>\n",
       "      <th>BGG Rating</th>\n",
       "      <th>Release</th>\n",
       "      <th>Tags</th>\n",
       "      <th>Recommended because…</th>\n",
       "    </tr>\n",
       "  </thead>\n",
       "  <tbody>\n",
       "    <tr>\n",
       "      <td><a href=\"https://boardgamegeek.com/boardgame/61028\">D-Day Dice: Free Trial Version</a><br><img src=\"https://cf.geekdo-images.com/d7JS4R_vNKvJBuq0FYEoiQ__thumb/img/ylEOXflY4fwHXwAR_4FhramQS98=/fit-in/200x150/filters:strip_icc()/pic1015555.jpg\" alt=\"D-Day Dice: Free Trial Version\"></td>\n",
       "      <td>#1</td>\n",
       "      <td>#5623</td>\n",
       "      <td>5.7</td>\n",
       "      <td>2009</td>\n",
       "      <td>Dice, World War II</td>\n",
       "      <td>You play…<br>Defender's Quest: Valley of the Forgotten (DX edition)<br>Clicker Heroes<br>STAR WARS™ Knights of the Old Republic™ II - The Sith Lords™</td>\n",
       "    </tr>\n",
       "    <tr>\n",
       "      <td><a href=\"https://boardgamegeek.com/boardgame/207653\">Warhammer 40,000: Kill Team</a><br><img src=\"https://cf.geekdo-images.com/CN72ayGmNOU9eNqs1lZUNw__thumb/img/5kt-r4kuql98JC4W9CL-0sEOb0E=/fit-in/200x150/filters:strip_icc()/pic3213069.jpg\" alt=\"Warhammer 40,000: Kill Team\"></td>\n",
       "      <td>#2</td>\n",
       "      <td>#10128</td>\n",
       "      <td>5.6</td>\n",
       "      <td>2016</td>\n",
       "      <td>Miniatures, Science Fiction, Wargame</td>\n",
       "      <td>You play…<br>Blood Bowl: Chaos Edition<br>Mount & Blade: Warband<br>Total War: SHOGUN 2</td>\n",
       "    </tr>\n",
       "    <tr>\n",
       "      <td><a href=\"https://boardgamegeek.com/boardgame/29934\">Amyitis</a><br><img src=\"https://cf.geekdo-images.com/ayF1Nyw9hFSgxiTnJcnxiQ__thumb/img/UcoramyyOpx78N9U96Mr1T70vSo=/fit-in/200x150/filters:strip_icc()/pic224426.jpg\" alt=\"Amyitis\"></td>\n",
       "      <td>#3</td>\n",
       "      <td>#1195</td>\n",
       "      <td>6.4</td>\n",
       "      <td>2007</td>\n",
       "      <td>Ancient</td>\n",
       "      <td>You play…<br>Ratropolis<br>Airships: Conquer the Skies<br>West of Loathing</td>\n",
       "    </tr>\n",
       "  </tbody>\n",
       "</table>"
      ]
     },
     "metadata": {},
     "output_type": "display_data"
    }
   ],
   "source": [
    "display({'text/html': x}, raw=True)"
   ]
  }
 ],
 "metadata": {
  "kernelspec": {
   "display_name": "Python 3",
   "language": "python",
   "name": "python3"
  },
  "language_info": {
   "codemirror_mode": {
    "name": "ipython",
    "version": 3
   },
   "file_extension": ".py",
   "mimetype": "text/x-python",
   "name": "python",
   "nbconvert_exporter": "python",
   "pygments_lexer": "ipython3",
   "version": "3.8.8"
  }
 },
 "nbformat": 4,
 "nbformat_minor": 5
}
